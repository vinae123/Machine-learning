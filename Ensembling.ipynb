{
  "cells": [
    {
      "cell_type": "markdown",
      "metadata": {
        "id": "ky66i6Zg2aTh"
      },
      "source": [
        "# **Data Description**\n",
        "\n",
        "We will be working on the Adults Data Set, which can be found at the UCI Website. In this problem the goal is to predict whether a person income is higher or lower than $50k/year based on their attributes, which indicates that we will be able to use the logistic regression algorithm. The data set has 48,842 observations and 14 features.\n",
        "\n",
        "#### **Features**\n",
        "**age**: continuous.\n",
        "\n",
        "**workclass**: Private, Self-emp-not-inc, Self-emp-inc, Federal-gov, Local-gov, State-gov, Without-pay, Never-worked.\n",
        "\n",
        "**fnlwgt** (Final weight of how much of the population it represents): continuous.\n",
        "\n",
        "**education**: Bachelors, Some-college, 11th, HS-grad, Prof-school, Assoc-acdm, Assoc-voc, 9th, 7th-8th, 12th, Masters, 1st-4th, - 10th, Doctorate, 5th-6th, Preschool.\n",
        "\n",
        "**education-num**: continuous.\n",
        "\n",
        "**marital-status**: Married-civ-spouse, Divorced, Never-married, Separated, Widowed, Married-spouse-absent, Married-AF-spouse.\n",
        "\n",
        "**occupation**: Tech-support, Craft-repair, Other-service, Sales, Exec-managerial, Prof-specialty, Handlers-cleaners, Machine-op-- inspct, Adm-clerical, Farming-fishing, Transport-moving, Priv-house-serv, Protective-serv, Armed-Forces.\n",
        "\n",
        "**relationship**: Wife, Own-child, Husband, Not-in-family, Other-relative, Unmarried.\n",
        "\n",
        "**race**: White, Asian-Pac-Islander, Amer-Indian-Eskimo, Other, Black.\n",
        "gender: Female, Male.\n",
        "\n",
        "**capital-gain**: continuous.\n",
        "\n",
        "**capital-loss**: continuous.\n",
        "\n",
        "**hours-per-wee**k: continuous.\n",
        "\n",
        "**native-country**: United-States, Cambodia, England, Puerto-Rico, Canada, Germany, Outlying-US(Guam-USVI-etc), India, Japan, Greece, South, China, Cuba, Iran, Honduras, Philippines, Italy, Poland, Jamaica, Vietnam, Mexico, Portugal, Ireland, France, Dominican-Republic, Laos, Ecuador, Taiwan, Haiti, Columbia, Hungary, Guatemala, Nicaragua, Scotland, Thailand, Yugoslavia, El-Salvador, Trinadad&Tobago, Peru, Hong, Holand-Netherlands.\n",
        "\n",
        "**salary**: >50K,<=50K"
      ]
    },
    {
      "cell_type": "markdown",
      "metadata": {
        "id": "NtvGQ6Gw2oUC"
      },
      "source": [
        "# **Importing the Libraries**"
      ]
    },
    {
      "cell_type": "code",
      "execution_count": 1,
      "metadata": {
        "id": "BQq8PGLm2bgI"
      },
      "outputs": [],
      "source": [
        "# Data Processing\n",
        "import pandas as pd\n",
        "import numpy as np\n",
        "\n",
        "# Modelling\n",
        "from sklearn.ensemble import RandomForestClassifier\n",
        "from sklearn.metrics import accuracy_score, confusion_matrix, precision_score, recall_score, ConfusionMatrixDisplay\n",
        "from sklearn.model_selection import RandomizedSearchCV, train_test_split\n",
        "from scipy.stats import randint\n",
        "from sklearn import metrics\n",
        "\n",
        "# Tree Visualisation\n",
        "from sklearn.tree import export_graphviz   \n",
        "from IPython.display import Image                            \n",
        "import graphviz          "
      ]
    },
    {
      "cell_type": "markdown",
      "metadata": {
        "id": "IqVXZZ_N3oAZ"
      },
      "source": [
        "# **Load The Data**"
      ]
    },
    {
      "cell_type": "code",
      "execution_count": 2,
      "metadata": {
        "colab": {
          "base_uri": "https://localhost:8080/",
          "height": 339
        },
        "id": "UjdTZPgC21dP",
        "outputId": "d54067d0-715f-4477-8f5f-ed2586f023c1"
      },
      "outputs": [
        {
          "ename": "FileNotFoundError",
          "evalue": "[Errno 2] No such file or directory: '/content/adult.csv.zip'",
          "output_type": "error",
          "traceback": [
            "\u001b[1;31m---------------------------------------------------------------------------\u001b[0m",
            "\u001b[1;31mFileNotFoundError\u001b[0m                         Traceback (most recent call last)",
            "\u001b[1;32mc:\\Users\\vinay\\OneDrive\\Desktop\\Christ\\SEM2\\MACHINE LEARNING\\Ensembling.ipynb Cell 5\u001b[0m in \u001b[0;36m<cell line: 1>\u001b[1;34m()\u001b[0m\n\u001b[1;32m----> <a href='vscode-notebook-cell:/c%3A/Users/vinay/OneDrive/Desktop/Christ/SEM2/MACHINE%20LEARNING/Ensembling.ipynb#W4sZmlsZQ%3D%3D?line=0'>1</a>\u001b[0m data \u001b[39m=\u001b[39m pd\u001b[39m.\u001b[39;49mread_csv(\u001b[39m'\u001b[39;49m\u001b[39m/content/adult.csv.zip\u001b[39;49m\u001b[39m'\u001b[39;49m)\n\u001b[0;32m      <a href='vscode-notebook-cell:/c%3A/Users/vinay/OneDrive/Desktop/Christ/SEM2/MACHINE%20LEARNING/Ensembling.ipynb#W4sZmlsZQ%3D%3D?line=1'>2</a>\u001b[0m data\u001b[39m.\u001b[39mhead()\n",
            "File \u001b[1;32m~\\AppData\\Local\\Packages\\PythonSoftwareFoundation.Python.3.10_qbz5n2kfra8p0\\LocalCache\\local-packages\\Python310\\site-packages\\pandas\\util\\_decorators.py:211\u001b[0m, in \u001b[0;36mdeprecate_kwarg.<locals>._deprecate_kwarg.<locals>.wrapper\u001b[1;34m(*args, **kwargs)\u001b[0m\n\u001b[0;32m    209\u001b[0m     \u001b[39melse\u001b[39;00m:\n\u001b[0;32m    210\u001b[0m         kwargs[new_arg_name] \u001b[39m=\u001b[39m new_arg_value\n\u001b[1;32m--> 211\u001b[0m \u001b[39mreturn\u001b[39;00m func(\u001b[39m*\u001b[39margs, \u001b[39m*\u001b[39m\u001b[39m*\u001b[39mkwargs)\n",
            "File \u001b[1;32m~\\AppData\\Local\\Packages\\PythonSoftwareFoundation.Python.3.10_qbz5n2kfra8p0\\LocalCache\\local-packages\\Python310\\site-packages\\pandas\\util\\_decorators.py:331\u001b[0m, in \u001b[0;36mdeprecate_nonkeyword_arguments.<locals>.decorate.<locals>.wrapper\u001b[1;34m(*args, **kwargs)\u001b[0m\n\u001b[0;32m    325\u001b[0m \u001b[39mif\u001b[39;00m \u001b[39mlen\u001b[39m(args) \u001b[39m>\u001b[39m num_allow_args:\n\u001b[0;32m    326\u001b[0m     warnings\u001b[39m.\u001b[39mwarn(\n\u001b[0;32m    327\u001b[0m         msg\u001b[39m.\u001b[39mformat(arguments\u001b[39m=\u001b[39m_format_argument_list(allow_args)),\n\u001b[0;32m    328\u001b[0m         \u001b[39mFutureWarning\u001b[39;00m,\n\u001b[0;32m    329\u001b[0m         stacklevel\u001b[39m=\u001b[39mfind_stack_level(),\n\u001b[0;32m    330\u001b[0m     )\n\u001b[1;32m--> 331\u001b[0m \u001b[39mreturn\u001b[39;00m func(\u001b[39m*\u001b[39margs, \u001b[39m*\u001b[39m\u001b[39m*\u001b[39mkwargs)\n",
            "File \u001b[1;32m~\\AppData\\Local\\Packages\\PythonSoftwareFoundation.Python.3.10_qbz5n2kfra8p0\\LocalCache\\local-packages\\Python310\\site-packages\\pandas\\io\\parsers\\readers.py:950\u001b[0m, in \u001b[0;36mread_csv\u001b[1;34m(filepath_or_buffer, sep, delimiter, header, names, index_col, usecols, squeeze, prefix, mangle_dupe_cols, dtype, engine, converters, true_values, false_values, skipinitialspace, skiprows, skipfooter, nrows, na_values, keep_default_na, na_filter, verbose, skip_blank_lines, parse_dates, infer_datetime_format, keep_date_col, date_parser, dayfirst, cache_dates, iterator, chunksize, compression, thousands, decimal, lineterminator, quotechar, quoting, doublequote, escapechar, comment, encoding, encoding_errors, dialect, error_bad_lines, warn_bad_lines, on_bad_lines, delim_whitespace, low_memory, memory_map, float_precision, storage_options)\u001b[0m\n\u001b[0;32m    935\u001b[0m kwds_defaults \u001b[39m=\u001b[39m _refine_defaults_read(\n\u001b[0;32m    936\u001b[0m     dialect,\n\u001b[0;32m    937\u001b[0m     delimiter,\n\u001b[1;32m   (...)\u001b[0m\n\u001b[0;32m    946\u001b[0m     defaults\u001b[39m=\u001b[39m{\u001b[39m\"\u001b[39m\u001b[39mdelimiter\u001b[39m\u001b[39m\"\u001b[39m: \u001b[39m\"\u001b[39m\u001b[39m,\u001b[39m\u001b[39m\"\u001b[39m},\n\u001b[0;32m    947\u001b[0m )\n\u001b[0;32m    948\u001b[0m kwds\u001b[39m.\u001b[39mupdate(kwds_defaults)\n\u001b[1;32m--> 950\u001b[0m \u001b[39mreturn\u001b[39;00m _read(filepath_or_buffer, kwds)\n",
            "File \u001b[1;32m~\\AppData\\Local\\Packages\\PythonSoftwareFoundation.Python.3.10_qbz5n2kfra8p0\\LocalCache\\local-packages\\Python310\\site-packages\\pandas\\io\\parsers\\readers.py:605\u001b[0m, in \u001b[0;36m_read\u001b[1;34m(filepath_or_buffer, kwds)\u001b[0m\n\u001b[0;32m    602\u001b[0m _validate_names(kwds\u001b[39m.\u001b[39mget(\u001b[39m\"\u001b[39m\u001b[39mnames\u001b[39m\u001b[39m\"\u001b[39m, \u001b[39mNone\u001b[39;00m))\n\u001b[0;32m    604\u001b[0m \u001b[39m# Create the parser.\u001b[39;00m\n\u001b[1;32m--> 605\u001b[0m parser \u001b[39m=\u001b[39m TextFileReader(filepath_or_buffer, \u001b[39m*\u001b[39m\u001b[39m*\u001b[39mkwds)\n\u001b[0;32m    607\u001b[0m \u001b[39mif\u001b[39;00m chunksize \u001b[39mor\u001b[39;00m iterator:\n\u001b[0;32m    608\u001b[0m     \u001b[39mreturn\u001b[39;00m parser\n",
            "File \u001b[1;32m~\\AppData\\Local\\Packages\\PythonSoftwareFoundation.Python.3.10_qbz5n2kfra8p0\\LocalCache\\local-packages\\Python310\\site-packages\\pandas\\io\\parsers\\readers.py:1442\u001b[0m, in \u001b[0;36mTextFileReader.__init__\u001b[1;34m(self, f, engine, **kwds)\u001b[0m\n\u001b[0;32m   1439\u001b[0m     \u001b[39mself\u001b[39m\u001b[39m.\u001b[39moptions[\u001b[39m\"\u001b[39m\u001b[39mhas_index_names\u001b[39m\u001b[39m\"\u001b[39m] \u001b[39m=\u001b[39m kwds[\u001b[39m\"\u001b[39m\u001b[39mhas_index_names\u001b[39m\u001b[39m\"\u001b[39m]\n\u001b[0;32m   1441\u001b[0m \u001b[39mself\u001b[39m\u001b[39m.\u001b[39mhandles: IOHandles \u001b[39m|\u001b[39m \u001b[39mNone\u001b[39;00m \u001b[39m=\u001b[39m \u001b[39mNone\u001b[39;00m\n\u001b[1;32m-> 1442\u001b[0m \u001b[39mself\u001b[39m\u001b[39m.\u001b[39m_engine \u001b[39m=\u001b[39m \u001b[39mself\u001b[39;49m\u001b[39m.\u001b[39;49m_make_engine(f, \u001b[39mself\u001b[39;49m\u001b[39m.\u001b[39;49mengine)\n",
            "File \u001b[1;32m~\\AppData\\Local\\Packages\\PythonSoftwareFoundation.Python.3.10_qbz5n2kfra8p0\\LocalCache\\local-packages\\Python310\\site-packages\\pandas\\io\\parsers\\readers.py:1735\u001b[0m, in \u001b[0;36mTextFileReader._make_engine\u001b[1;34m(self, f, engine)\u001b[0m\n\u001b[0;32m   1733\u001b[0m     \u001b[39mif\u001b[39;00m \u001b[39m\"\u001b[39m\u001b[39mb\u001b[39m\u001b[39m\"\u001b[39m \u001b[39mnot\u001b[39;00m \u001b[39min\u001b[39;00m mode:\n\u001b[0;32m   1734\u001b[0m         mode \u001b[39m+\u001b[39m\u001b[39m=\u001b[39m \u001b[39m\"\u001b[39m\u001b[39mb\u001b[39m\u001b[39m\"\u001b[39m\n\u001b[1;32m-> 1735\u001b[0m \u001b[39mself\u001b[39m\u001b[39m.\u001b[39mhandles \u001b[39m=\u001b[39m get_handle(\n\u001b[0;32m   1736\u001b[0m     f,\n\u001b[0;32m   1737\u001b[0m     mode,\n\u001b[0;32m   1738\u001b[0m     encoding\u001b[39m=\u001b[39;49m\u001b[39mself\u001b[39;49m\u001b[39m.\u001b[39;49moptions\u001b[39m.\u001b[39;49mget(\u001b[39m\"\u001b[39;49m\u001b[39mencoding\u001b[39;49m\u001b[39m\"\u001b[39;49m, \u001b[39mNone\u001b[39;49;00m),\n\u001b[0;32m   1739\u001b[0m     compression\u001b[39m=\u001b[39;49m\u001b[39mself\u001b[39;49m\u001b[39m.\u001b[39;49moptions\u001b[39m.\u001b[39;49mget(\u001b[39m\"\u001b[39;49m\u001b[39mcompression\u001b[39;49m\u001b[39m\"\u001b[39;49m, \u001b[39mNone\u001b[39;49;00m),\n\u001b[0;32m   1740\u001b[0m     memory_map\u001b[39m=\u001b[39;49m\u001b[39mself\u001b[39;49m\u001b[39m.\u001b[39;49moptions\u001b[39m.\u001b[39;49mget(\u001b[39m\"\u001b[39;49m\u001b[39mmemory_map\u001b[39;49m\u001b[39m\"\u001b[39;49m, \u001b[39mFalse\u001b[39;49;00m),\n\u001b[0;32m   1741\u001b[0m     is_text\u001b[39m=\u001b[39;49mis_text,\n\u001b[0;32m   1742\u001b[0m     errors\u001b[39m=\u001b[39;49m\u001b[39mself\u001b[39;49m\u001b[39m.\u001b[39;49moptions\u001b[39m.\u001b[39;49mget(\u001b[39m\"\u001b[39;49m\u001b[39mencoding_errors\u001b[39;49m\u001b[39m\"\u001b[39;49m, \u001b[39m\"\u001b[39;49m\u001b[39mstrict\u001b[39;49m\u001b[39m\"\u001b[39;49m),\n\u001b[0;32m   1743\u001b[0m     storage_options\u001b[39m=\u001b[39;49m\u001b[39mself\u001b[39;49m\u001b[39m.\u001b[39;49moptions\u001b[39m.\u001b[39;49mget(\u001b[39m\"\u001b[39;49m\u001b[39mstorage_options\u001b[39;49m\u001b[39m\"\u001b[39;49m, \u001b[39mNone\u001b[39;49;00m),\n\u001b[0;32m   1744\u001b[0m )\n\u001b[0;32m   1745\u001b[0m \u001b[39massert\u001b[39;00m \u001b[39mself\u001b[39m\u001b[39m.\u001b[39mhandles \u001b[39mis\u001b[39;00m \u001b[39mnot\u001b[39;00m \u001b[39mNone\u001b[39;00m\n\u001b[0;32m   1746\u001b[0m f \u001b[39m=\u001b[39m \u001b[39mself\u001b[39m\u001b[39m.\u001b[39mhandles\u001b[39m.\u001b[39mhandle\n",
            "File \u001b[1;32m~\\AppData\\Local\\Packages\\PythonSoftwareFoundation.Python.3.10_qbz5n2kfra8p0\\LocalCache\\local-packages\\Python310\\site-packages\\pandas\\io\\common.py:779\u001b[0m, in \u001b[0;36mget_handle\u001b[1;34m(path_or_buf, mode, encoding, compression, memory_map, is_text, errors, storage_options)\u001b[0m\n\u001b[0;32m    774\u001b[0m \u001b[39m# ZIP Compression\u001b[39;00m\n\u001b[0;32m    775\u001b[0m \u001b[39melif\u001b[39;00m compression \u001b[39m==\u001b[39m \u001b[39m\"\u001b[39m\u001b[39mzip\u001b[39m\u001b[39m\"\u001b[39m:\n\u001b[0;32m    776\u001b[0m     \u001b[39m# error: Argument 1 to \"_BytesZipFile\" has incompatible type\u001b[39;00m\n\u001b[0;32m    777\u001b[0m     \u001b[39m# \"Union[str, BaseBuffer]\"; expected \"Union[Union[str, PathLike[str]],\u001b[39;00m\n\u001b[0;32m    778\u001b[0m     \u001b[39m# ReadBuffer[bytes], WriteBuffer[bytes]]\"\u001b[39;00m\n\u001b[1;32m--> 779\u001b[0m     handle \u001b[39m=\u001b[39m _BytesZipFile(\n\u001b[0;32m    780\u001b[0m         handle, ioargs\u001b[39m.\u001b[39mmode, \u001b[39m*\u001b[39m\u001b[39m*\u001b[39mcompression_args  \u001b[39m# type: ignore[arg-type]\u001b[39;00m\n\u001b[0;32m    781\u001b[0m     )\n\u001b[0;32m    782\u001b[0m     \u001b[39mif\u001b[39;00m handle\u001b[39m.\u001b[39mbuffer\u001b[39m.\u001b[39mmode \u001b[39m==\u001b[39m \u001b[39m\"\u001b[39m\u001b[39mr\u001b[39m\u001b[39m\"\u001b[39m:\n\u001b[0;32m    783\u001b[0m         handles\u001b[39m.\u001b[39mappend(handle)\n",
            "File \u001b[1;32m~\\AppData\\Local\\Packages\\PythonSoftwareFoundation.Python.3.10_qbz5n2kfra8p0\\LocalCache\\local-packages\\Python310\\site-packages\\pandas\\io\\common.py:1022\u001b[0m, in \u001b[0;36m_BytesZipFile.__init__\u001b[1;34m(self, file, mode, archive_name, **kwargs)\u001b[0m\n\u001b[0;32m   1018\u001b[0m kwargs\u001b[39m.\u001b[39msetdefault(\u001b[39m\"\u001b[39m\u001b[39mcompression\u001b[39m\u001b[39m\"\u001b[39m, zipfile\u001b[39m.\u001b[39mZIP_DEFLATED)\n\u001b[0;32m   1019\u001b[0m \u001b[39m# error: Argument 1 to \"ZipFile\" has incompatible type \"Union[\u001b[39;00m\n\u001b[0;32m   1020\u001b[0m \u001b[39m# Union[str, PathLike[str]], ReadBuffer[bytes], WriteBuffer[bytes]]\";\u001b[39;00m\n\u001b[0;32m   1021\u001b[0m \u001b[39m# expected \"Union[Union[str, PathLike[str]], IO[bytes]]\"\u001b[39;00m\n\u001b[1;32m-> 1022\u001b[0m \u001b[39mself\u001b[39m\u001b[39m.\u001b[39mbuffer \u001b[39m=\u001b[39m zipfile\u001b[39m.\u001b[39mZipFile(file, mode, \u001b[39m*\u001b[39m\u001b[39m*\u001b[39mkwargs)\n",
            "File \u001b[1;32mC:\\Program Files\\WindowsApps\\PythonSoftwareFoundation.Python.3.10_3.10.3056.0_x64__qbz5n2kfra8p0\\lib\\zipfile.py:1251\u001b[0m, in \u001b[0;36mZipFile.__init__\u001b[1;34m(self, file, mode, compression, allowZip64, compresslevel, strict_timestamps)\u001b[0m\n\u001b[0;32m   1249\u001b[0m \u001b[39mwhile\u001b[39;00m \u001b[39mTrue\u001b[39;00m:\n\u001b[0;32m   1250\u001b[0m     \u001b[39mtry\u001b[39;00m:\n\u001b[1;32m-> 1251\u001b[0m         \u001b[39mself\u001b[39m\u001b[39m.\u001b[39mfp \u001b[39m=\u001b[39m io\u001b[39m.\u001b[39;49mopen(file, filemode)\n\u001b[0;32m   1252\u001b[0m     \u001b[39mexcept\u001b[39;00m \u001b[39mOSError\u001b[39;00m:\n\u001b[0;32m   1253\u001b[0m         \u001b[39mif\u001b[39;00m filemode \u001b[39min\u001b[39;00m modeDict:\n",
            "\u001b[1;31mFileNotFoundError\u001b[0m: [Errno 2] No such file or directory: '/content/adult.csv.zip'"
          ]
        }
      ],
      "source": [
        "data = pd.read_csv('/content/adult.csv.zip')\n",
        "data.head()          "
      ]
    },
    {
      "cell_type": "markdown",
      "metadata": {
        "id": "CbvO0iLR39WG"
      },
      "source": [
        "# **Pre-Processing The Data**\n",
        "\n",
        "Tree-based models are much more robust to outliers than linear models, and they do not need variables to be normalized to work. As such, we need to do very little preprocessing on our data."
      ]
    },
    {
      "cell_type": "code",
      "execution_count": null,
      "metadata": {
        "id": "Tcgd23nz7R1r"
      },
      "outputs": [],
      "source": [
        " # Replace ? with NaN value in the dataset\n",
        " data['native.country']=data['native.country'].replace('?',np.nan)\n",
        " data['workclass']= data['workclass'].replace('?',np.nan)\n",
        " data['occupation']=data['occupation'].replace('?',np.nan)\n",
        "\n",
        " #Replace missing values with mode value\n",
        " data['workclass'].replace(np.nan,'Private',inplace =True)\n",
        " data['occupation'].replace(np.nan,'Prof-specialty',inplace =True)\n",
        " data['native.country'].replace(np.nan,'United-States',inplace =True)"
      ]
    },
    {
      "cell_type": "code",
      "execution_count": null,
      "metadata": {
        "colab": {
          "base_uri": "https://localhost:8080/"
        },
        "id": "mpzzXlj1LGhE",
        "outputId": "ebf83e1b-f12a-4214-8fd2-8a56cdc0a84b"
      },
      "outputs": [
        {
          "data": {
            "text/plain": [
              "24"
            ]
          },
          "execution_count": 4,
          "metadata": {},
          "output_type": "execute_result"
        }
      ],
      "source": [
        "data.duplicated().sum()"
      ]
    },
    {
      "cell_type": "code",
      "execution_count": null,
      "metadata": {
        "colab": {
          "base_uri": "https://localhost:8080/"
        },
        "id": "ZdIadVKgLMaC",
        "outputId": "0ae17bcb-da7c-4750-bde2-b372260539f2"
      },
      "outputs": [
        {
          "data": {
            "text/html": [
              "\n",
              "  <div id=\"df-a463a512-d96c-469d-a20a-3cb83fc63d90\">\n",
              "    <div class=\"colab-df-container\">\n",
              "      <div>\n",
              "<style scoped>\n",
              "    .dataframe tbody tr th:only-of-type {\n",
              "        vertical-align: middle;\n",
              "    }\n",
              "\n",
              "    .dataframe tbody tr th {\n",
              "        vertical-align: top;\n",
              "    }\n",
              "\n",
              "    .dataframe thead th {\n",
              "        text-align: right;\n",
              "    }\n",
              "</style>\n",
              "<table border=\"1\" class=\"dataframe\">\n",
              "  <thead>\n",
              "    <tr style=\"text-align: right;\">\n",
              "      <th></th>\n",
              "      <th>age</th>\n",
              "      <th>workclass</th>\n",
              "      <th>fnlwgt</th>\n",
              "      <th>education</th>\n",
              "      <th>education.num</th>\n",
              "      <th>marital.status</th>\n",
              "      <th>occupation</th>\n",
              "      <th>relationship</th>\n",
              "      <th>race</th>\n",
              "      <th>sex</th>\n",
              "      <th>capital.gain</th>\n",
              "      <th>capital.loss</th>\n",
              "      <th>hours.per.week</th>\n",
              "      <th>native.country</th>\n",
              "      <th>income</th>\n",
              "    </tr>\n",
              "  </thead>\n",
              "  <tbody>\n",
              "    <tr>\n",
              "      <th>0</th>\n",
              "      <td>90</td>\n",
              "      <td>Private</td>\n",
              "      <td>77053</td>\n",
              "      <td>HS-grad</td>\n",
              "      <td>9</td>\n",
              "      <td>Widowed</td>\n",
              "      <td>Prof-specialty</td>\n",
              "      <td>Not-in-family</td>\n",
              "      <td>White</td>\n",
              "      <td>Female</td>\n",
              "      <td>0</td>\n",
              "      <td>4356</td>\n",
              "      <td>40</td>\n",
              "      <td>United-States</td>\n",
              "      <td>&lt;=50K</td>\n",
              "    </tr>\n",
              "    <tr>\n",
              "      <th>1</th>\n",
              "      <td>82</td>\n",
              "      <td>Private</td>\n",
              "      <td>132870</td>\n",
              "      <td>HS-grad</td>\n",
              "      <td>9</td>\n",
              "      <td>Widowed</td>\n",
              "      <td>Exec-managerial</td>\n",
              "      <td>Not-in-family</td>\n",
              "      <td>White</td>\n",
              "      <td>Female</td>\n",
              "      <td>0</td>\n",
              "      <td>4356</td>\n",
              "      <td>18</td>\n",
              "      <td>United-States</td>\n",
              "      <td>&lt;=50K</td>\n",
              "    </tr>\n",
              "    <tr>\n",
              "      <th>2</th>\n",
              "      <td>66</td>\n",
              "      <td>Private</td>\n",
              "      <td>186061</td>\n",
              "      <td>Some-college</td>\n",
              "      <td>10</td>\n",
              "      <td>Widowed</td>\n",
              "      <td>Prof-specialty</td>\n",
              "      <td>Unmarried</td>\n",
              "      <td>Black</td>\n",
              "      <td>Female</td>\n",
              "      <td>0</td>\n",
              "      <td>4356</td>\n",
              "      <td>40</td>\n",
              "      <td>United-States</td>\n",
              "      <td>&lt;=50K</td>\n",
              "    </tr>\n",
              "    <tr>\n",
              "      <th>3</th>\n",
              "      <td>54</td>\n",
              "      <td>Private</td>\n",
              "      <td>140359</td>\n",
              "      <td>7th-8th</td>\n",
              "      <td>4</td>\n",
              "      <td>Divorced</td>\n",
              "      <td>Machine-op-inspct</td>\n",
              "      <td>Unmarried</td>\n",
              "      <td>White</td>\n",
              "      <td>Female</td>\n",
              "      <td>0</td>\n",
              "      <td>3900</td>\n",
              "      <td>40</td>\n",
              "      <td>United-States</td>\n",
              "      <td>&lt;=50K</td>\n",
              "    </tr>\n",
              "    <tr>\n",
              "      <th>4</th>\n",
              "      <td>41</td>\n",
              "      <td>Private</td>\n",
              "      <td>264663</td>\n",
              "      <td>Some-college</td>\n",
              "      <td>10</td>\n",
              "      <td>Separated</td>\n",
              "      <td>Prof-specialty</td>\n",
              "      <td>Own-child</td>\n",
              "      <td>White</td>\n",
              "      <td>Female</td>\n",
              "      <td>0</td>\n",
              "      <td>3900</td>\n",
              "      <td>40</td>\n",
              "      <td>United-States</td>\n",
              "      <td>&lt;=50K</td>\n",
              "    </tr>\n",
              "    <tr>\n",
              "      <th>...</th>\n",
              "      <td>...</td>\n",
              "      <td>...</td>\n",
              "      <td>...</td>\n",
              "      <td>...</td>\n",
              "      <td>...</td>\n",
              "      <td>...</td>\n",
              "      <td>...</td>\n",
              "      <td>...</td>\n",
              "      <td>...</td>\n",
              "      <td>...</td>\n",
              "      <td>...</td>\n",
              "      <td>...</td>\n",
              "      <td>...</td>\n",
              "      <td>...</td>\n",
              "      <td>...</td>\n",
              "    </tr>\n",
              "    <tr>\n",
              "      <th>32556</th>\n",
              "      <td>22</td>\n",
              "      <td>Private</td>\n",
              "      <td>310152</td>\n",
              "      <td>Some-college</td>\n",
              "      <td>10</td>\n",
              "      <td>Never-married</td>\n",
              "      <td>Protective-serv</td>\n",
              "      <td>Not-in-family</td>\n",
              "      <td>White</td>\n",
              "      <td>Male</td>\n",
              "      <td>0</td>\n",
              "      <td>0</td>\n",
              "      <td>40</td>\n",
              "      <td>United-States</td>\n",
              "      <td>&lt;=50K</td>\n",
              "    </tr>\n",
              "    <tr>\n",
              "      <th>32557</th>\n",
              "      <td>27</td>\n",
              "      <td>Private</td>\n",
              "      <td>257302</td>\n",
              "      <td>Assoc-acdm</td>\n",
              "      <td>12</td>\n",
              "      <td>Married-civ-spouse</td>\n",
              "      <td>Tech-support</td>\n",
              "      <td>Wife</td>\n",
              "      <td>White</td>\n",
              "      <td>Female</td>\n",
              "      <td>0</td>\n",
              "      <td>0</td>\n",
              "      <td>38</td>\n",
              "      <td>United-States</td>\n",
              "      <td>&lt;=50K</td>\n",
              "    </tr>\n",
              "    <tr>\n",
              "      <th>32558</th>\n",
              "      <td>40</td>\n",
              "      <td>Private</td>\n",
              "      <td>154374</td>\n",
              "      <td>HS-grad</td>\n",
              "      <td>9</td>\n",
              "      <td>Married-civ-spouse</td>\n",
              "      <td>Machine-op-inspct</td>\n",
              "      <td>Husband</td>\n",
              "      <td>White</td>\n",
              "      <td>Male</td>\n",
              "      <td>0</td>\n",
              "      <td>0</td>\n",
              "      <td>40</td>\n",
              "      <td>United-States</td>\n",
              "      <td>&gt;50K</td>\n",
              "    </tr>\n",
              "    <tr>\n",
              "      <th>32559</th>\n",
              "      <td>58</td>\n",
              "      <td>Private</td>\n",
              "      <td>151910</td>\n",
              "      <td>HS-grad</td>\n",
              "      <td>9</td>\n",
              "      <td>Widowed</td>\n",
              "      <td>Adm-clerical</td>\n",
              "      <td>Unmarried</td>\n",
              "      <td>White</td>\n",
              "      <td>Female</td>\n",
              "      <td>0</td>\n",
              "      <td>0</td>\n",
              "      <td>40</td>\n",
              "      <td>United-States</td>\n",
              "      <td>&lt;=50K</td>\n",
              "    </tr>\n",
              "    <tr>\n",
              "      <th>32560</th>\n",
              "      <td>22</td>\n",
              "      <td>Private</td>\n",
              "      <td>201490</td>\n",
              "      <td>HS-grad</td>\n",
              "      <td>9</td>\n",
              "      <td>Never-married</td>\n",
              "      <td>Adm-clerical</td>\n",
              "      <td>Own-child</td>\n",
              "      <td>White</td>\n",
              "      <td>Male</td>\n",
              "      <td>0</td>\n",
              "      <td>0</td>\n",
              "      <td>20</td>\n",
              "      <td>United-States</td>\n",
              "      <td>&lt;=50K</td>\n",
              "    </tr>\n",
              "  </tbody>\n",
              "</table>\n",
              "<p>32537 rows × 15 columns</p>\n",
              "</div>\n",
              "      <button class=\"colab-df-convert\" onclick=\"convertToInteractive('df-a463a512-d96c-469d-a20a-3cb83fc63d90')\"\n",
              "              title=\"Convert this dataframe to an interactive table.\"\n",
              "              style=\"display:none;\">\n",
              "        \n",
              "  <svg xmlns=\"http://www.w3.org/2000/svg\" height=\"24px\"viewBox=\"0 0 24 24\"\n",
              "       width=\"24px\">\n",
              "    <path d=\"M0 0h24v24H0V0z\" fill=\"none\"/>\n",
              "    <path d=\"M18.56 5.44l.94 2.06.94-2.06 2.06-.94-2.06-.94-.94-2.06-.94 2.06-2.06.94zm-11 1L8.5 8.5l.94-2.06 2.06-.94-2.06-.94L8.5 2.5l-.94 2.06-2.06.94zm10 10l.94 2.06.94-2.06 2.06-.94-2.06-.94-.94-2.06-.94 2.06-2.06.94z\"/><path d=\"M17.41 7.96l-1.37-1.37c-.4-.4-.92-.59-1.43-.59-.52 0-1.04.2-1.43.59L10.3 9.45l-7.72 7.72c-.78.78-.78 2.05 0 2.83L4 21.41c.39.39.9.59 1.41.59.51 0 1.02-.2 1.41-.59l7.78-7.78 2.81-2.81c.8-.78.8-2.07 0-2.86zM5.41 20L4 18.59l7.72-7.72 1.47 1.35L5.41 20z\"/>\n",
              "  </svg>\n",
              "      </button>\n",
              "      \n",
              "  <style>\n",
              "    .colab-df-container {\n",
              "      display:flex;\n",
              "      flex-wrap:wrap;\n",
              "      gap: 12px;\n",
              "    }\n",
              "\n",
              "    .colab-df-convert {\n",
              "      background-color: #E8F0FE;\n",
              "      border: none;\n",
              "      border-radius: 50%;\n",
              "      cursor: pointer;\n",
              "      display: none;\n",
              "      fill: #1967D2;\n",
              "      height: 32px;\n",
              "      padding: 0 0 0 0;\n",
              "      width: 32px;\n",
              "    }\n",
              "\n",
              "    .colab-df-convert:hover {\n",
              "      background-color: #E2EBFA;\n",
              "      box-shadow: 0px 1px 2px rgba(60, 64, 67, 0.3), 0px 1px 3px 1px rgba(60, 64, 67, 0.15);\n",
              "      fill: #174EA6;\n",
              "    }\n",
              "\n",
              "    [theme=dark] .colab-df-convert {\n",
              "      background-color: #3B4455;\n",
              "      fill: #D2E3FC;\n",
              "    }\n",
              "\n",
              "    [theme=dark] .colab-df-convert:hover {\n",
              "      background-color: #434B5C;\n",
              "      box-shadow: 0px 1px 3px 1px rgba(0, 0, 0, 0.15);\n",
              "      filter: drop-shadow(0px 1px 2px rgba(0, 0, 0, 0.3));\n",
              "      fill: #FFFFFF;\n",
              "    }\n",
              "  </style>\n",
              "\n",
              "      <script>\n",
              "        const buttonEl =\n",
              "          document.querySelector('#df-a463a512-d96c-469d-a20a-3cb83fc63d90 button.colab-df-convert');\n",
              "        buttonEl.style.display =\n",
              "          google.colab.kernel.accessAllowed ? 'block' : 'none';\n",
              "\n",
              "        async function convertToInteractive(key) {\n",
              "          const element = document.querySelector('#df-a463a512-d96c-469d-a20a-3cb83fc63d90');\n",
              "          const dataTable =\n",
              "            await google.colab.kernel.invokeFunction('convertToInteractive',\n",
              "                                                     [key], {});\n",
              "          if (!dataTable) return;\n",
              "\n",
              "          const docLinkHtml = 'Like what you see? Visit the ' +\n",
              "            '<a target=\"_blank\" href=https://colab.research.google.com/notebooks/data_table.ipynb>data table notebook</a>'\n",
              "            + ' to learn more about interactive tables.';\n",
              "          element.innerHTML = '';\n",
              "          dataTable['output_type'] = 'display_data';\n",
              "          await google.colab.output.renderOutput(dataTable, element);\n",
              "          const docLink = document.createElement('div');\n",
              "          docLink.innerHTML = docLinkHtml;\n",
              "          element.appendChild(docLink);\n",
              "        }\n",
              "      </script>\n",
              "    </div>\n",
              "  </div>\n",
              "  "
            ],
            "text/plain": [
              "       age workclass  fnlwgt     education  education.num      marital.status  \\\n",
              "0       90   Private   77053       HS-grad              9             Widowed   \n",
              "1       82   Private  132870       HS-grad              9             Widowed   \n",
              "2       66   Private  186061  Some-college             10             Widowed   \n",
              "3       54   Private  140359       7th-8th              4            Divorced   \n",
              "4       41   Private  264663  Some-college             10           Separated   \n",
              "...    ...       ...     ...           ...            ...                 ...   \n",
              "32556   22   Private  310152  Some-college             10       Never-married   \n",
              "32557   27   Private  257302    Assoc-acdm             12  Married-civ-spouse   \n",
              "32558   40   Private  154374       HS-grad              9  Married-civ-spouse   \n",
              "32559   58   Private  151910       HS-grad              9             Widowed   \n",
              "32560   22   Private  201490       HS-grad              9       Never-married   \n",
              "\n",
              "              occupation   relationship   race     sex  capital.gain  \\\n",
              "0         Prof-specialty  Not-in-family  White  Female             0   \n",
              "1        Exec-managerial  Not-in-family  White  Female             0   \n",
              "2         Prof-specialty      Unmarried  Black  Female             0   \n",
              "3      Machine-op-inspct      Unmarried  White  Female             0   \n",
              "4         Prof-specialty      Own-child  White  Female             0   \n",
              "...                  ...            ...    ...     ...           ...   \n",
              "32556    Protective-serv  Not-in-family  White    Male             0   \n",
              "32557       Tech-support           Wife  White  Female             0   \n",
              "32558  Machine-op-inspct        Husband  White    Male             0   \n",
              "32559       Adm-clerical      Unmarried  White  Female             0   \n",
              "32560       Adm-clerical      Own-child  White    Male             0   \n",
              "\n",
              "       capital.loss  hours.per.week native.country income  \n",
              "0              4356              40  United-States  <=50K  \n",
              "1              4356              18  United-States  <=50K  \n",
              "2              4356              40  United-States  <=50K  \n",
              "3              3900              40  United-States  <=50K  \n",
              "4              3900              40  United-States  <=50K  \n",
              "...             ...             ...            ...    ...  \n",
              "32556             0              40  United-States  <=50K  \n",
              "32557             0              38  United-States  <=50K  \n",
              "32558             0              40  United-States   >50K  \n",
              "32559             0              40  United-States  <=50K  \n",
              "32560             0              20  United-States  <=50K  \n",
              "\n",
              "[32537 rows x 15 columns]"
            ]
          },
          "execution_count": 5,
          "metadata": {},
          "output_type": "execute_result"
        }
      ],
      "source": [
        "data.drop_duplicates()"
      ]
    },
    {
      "cell_type": "code",
      "execution_count": null,
      "metadata": {
        "colab": {
          "base_uri": "https://localhost:8080/"
        },
        "id": "eG3VXfWTLTa7",
        "outputId": "10a2b488-f7d2-4ee9-dc67-91c2f3713f90"
      },
      "outputs": [
        {
          "data": {
            "text/plain": [
              "United-States                 29753\n",
              "Mexico                          643\n",
              "Philippines                     198\n",
              "Germany                         137\n",
              "Canada                          121\n",
              "Puerto-Rico                     114\n",
              "El-Salvador                     106\n",
              "India                           100\n",
              "Cuba                             95\n",
              "England                          90\n",
              "Jamaica                          81\n",
              "South                            80\n",
              "China                            75\n",
              "Italy                            73\n",
              "Dominican-Republic               70\n",
              "Vietnam                          67\n",
              "Guatemala                        64\n",
              "Japan                            62\n",
              "Poland                           60\n",
              "Columbia                         59\n",
              "Taiwan                           51\n",
              "Haiti                            44\n",
              "Iran                             43\n",
              "Portugal                         37\n",
              "Nicaragua                        34\n",
              "Peru                             31\n",
              "Greece                           29\n",
              "France                           29\n",
              "Ecuador                          28\n",
              "Ireland                          24\n",
              "Hong                             20\n",
              "Trinadad&Tobago                  19\n",
              "Cambodia                         19\n",
              "Thailand                         18\n",
              "Laos                             18\n",
              "Yugoslavia                       16\n",
              "Outlying-US(Guam-USVI-etc)       14\n",
              "Hungary                          13\n",
              "Honduras                         13\n",
              "Scotland                         12\n",
              "Holand-Netherlands                1\n",
              "Name: native.country, dtype: int64"
            ]
          },
          "execution_count": 6,
          "metadata": {},
          "output_type": "execute_result"
        }
      ],
      "source": [
        "data['native.country'].value_counts()"
      ]
    },
    {
      "cell_type": "code",
      "execution_count": null,
      "metadata": {
        "id": "-6A7-gizLWuT"
      },
      "outputs": [],
      "source": [
        "data.loc[data['native.country'] != 'United-States', 'native.country'] = 0\n",
        "data.loc[data['native.country'] == 'United-States', 'native.country'] = 1"
      ]
    },
    {
      "cell_type": "code",
      "execution_count": null,
      "metadata": {
        "colab": {
          "base_uri": "https://localhost:8080/"
        },
        "id": "g9rRZKNDLbBm",
        "outputId": "dac36eec-3115-4d64-f40b-2160da576280"
      },
      "outputs": [
        {
          "data": {
            "text/plain": [
              "HS-grad         10501\n",
              "Some-college     7291\n",
              "Bachelors        5355\n",
              "Masters          1723\n",
              "Assoc-voc        1382\n",
              "11th             1175\n",
              "Assoc-acdm       1067\n",
              "10th              933\n",
              "7th-8th           646\n",
              "Prof-school       576\n",
              "9th               514\n",
              "12th              433\n",
              "Doctorate         413\n",
              "5th-6th           333\n",
              "1st-4th           168\n",
              "Preschool          51\n",
              "Name: education, dtype: int64"
            ]
          },
          "execution_count": 8,
          "metadata": {},
          "output_type": "execute_result"
        }
      ],
      "source": [
        "data['education'].value_counts()"
      ]
    },
    {
      "cell_type": "code",
      "execution_count": null,
      "metadata": {
        "id": "6lhOPmFgLbKQ"
      },
      "outputs": [],
      "source": [
        "hs_grad = ['HS-grad','9th','10th','11th','12th']\n",
        "elementary = ['1st-4th','5th-6th','7th-8th']\n",
        "\n",
        "data['education'].replace(to_replace = hs_grad,value = 'HS-grad',inplace = True)\n",
        "data['education'].replace(to_replace = elementary,value = 'elementary_school',inplace = True)"
      ]
    },
    {
      "cell_type": "code",
      "execution_count": null,
      "metadata": {
        "colab": {
          "base_uri": "https://localhost:8080/"
        },
        "id": "ss49pRjvLjk3",
        "outputId": "df10844f-f566-4e42-8651-a7bb3fbeca52"
      },
      "outputs": [
        {
          "data": {
            "text/plain": [
              "Married-civ-spouse       14976\n",
              "Never-married            10683\n",
              "Divorced                  4443\n",
              "Separated                 1025\n",
              "Widowed                    993\n",
              "Married-spouse-absent      418\n",
              "Married-AF-spouse           23\n",
              "Name: marital.status, dtype: int64"
            ]
          },
          "execution_count": 10,
          "metadata": {},
          "output_type": "execute_result"
        }
      ],
      "source": [
        "data['marital.status'].value_counts()"
      ]
    },
    {
      "cell_type": "code",
      "execution_count": null,
      "metadata": {
        "colab": {
          "base_uri": "https://localhost:8080/"
        },
        "id": "u8ucPG83Lmq-",
        "outputId": "4ee623fd-47e2-4b54-fde7-a9dd8320e9d2"
      },
      "outputs": [
        {
          "data": {
            "text/plain": [
              "Married          15417\n",
              "Never-married    10683\n",
              "Separated         5468\n",
              "Widowed            993\n",
              "Name: marital.status, dtype: int64"
            ]
          },
          "execution_count": 11,
          "metadata": {},
          "output_type": "execute_result"
        }
      ],
      "source": [
        "married = ['Married-civ-spouse','Married-spouse-absent','Married-AF-spouse']\n",
        "separated = ['Separated','Divorced']\n",
        "\n",
        "data['marital.status'].replace(to_replace = married, value = \"Married\",inplace = True)\n",
        "data['marital.status'].replace(to_replace = separated, value = \"Separated\",inplace = True)\n",
        "\n",
        "data['marital.status'].value_counts()"
      ]
    },
    {
      "cell_type": "code",
      "execution_count": null,
      "metadata": {
        "colab": {
          "base_uri": "https://localhost:8080/"
        },
        "id": "BaFUP0kxLqYE",
        "outputId": "42f972ad-d434-4289-b4f1-d765116b435f"
      },
      "outputs": [
        {
          "data": {
            "text/plain": [
              "Private           24532\n",
              "Govt_employees     4351\n",
              "Self_employed      3657\n",
              "Without-pay          14\n",
              "Never-worked          7\n",
              "Name: workclass, dtype: int64"
            ]
          },
          "execution_count": 12,
          "metadata": {},
          "output_type": "execute_result"
        }
      ],
      "source": [
        "self_employed = ['Self-emp-not-inc','Self-emp-inc']\n",
        "govt_employees = ['Local-gov','State-gov','Federal-gov']\n",
        "\n",
        "data['workclass'].replace(to_replace = self_employed, value = 'Self_employed',inplace = True)\n",
        "data['workclass'].replace(to_replace = govt_employees, value = 'Govt_employees',inplace = True)\n",
        "\n",
        "data['workclass'].value_counts()"
      ]
    },
    {
      "cell_type": "code",
      "execution_count": null,
      "metadata": {
        "colab": {
          "base_uri": "https://localhost:8080/"
        },
        "id": "wz8Bwx23LxWr",
        "outputId": "57bca474-0dec-4a4a-9337-7753bff82ee1"
      },
      "outputs": [
        {
          "data": {
            "text/html": [
              "\n",
              "  <div id=\"df-5d40b32a-9f42-4688-9600-041a704b1d77\">\n",
              "    <div class=\"colab-df-container\">\n",
              "      <div>\n",
              "<style scoped>\n",
              "    .dataframe tbody tr th:only-of-type {\n",
              "        vertical-align: middle;\n",
              "    }\n",
              "\n",
              "    .dataframe tbody tr th {\n",
              "        vertical-align: top;\n",
              "    }\n",
              "\n",
              "    .dataframe thead th {\n",
              "        text-align: right;\n",
              "    }\n",
              "</style>\n",
              "<table border=\"1\" class=\"dataframe\">\n",
              "  <thead>\n",
              "    <tr style=\"text-align: right;\">\n",
              "      <th></th>\n",
              "      <th>age</th>\n",
              "      <th>workclass</th>\n",
              "      <th>fnlwgt</th>\n",
              "      <th>education</th>\n",
              "      <th>education.num</th>\n",
              "      <th>marital.status</th>\n",
              "      <th>occupation</th>\n",
              "      <th>relationship</th>\n",
              "      <th>race</th>\n",
              "      <th>sex</th>\n",
              "      <th>capital.gain</th>\n",
              "      <th>capital.loss</th>\n",
              "      <th>hours.per.week</th>\n",
              "      <th>native.country</th>\n",
              "      <th>income</th>\n",
              "    </tr>\n",
              "  </thead>\n",
              "  <tbody>\n",
              "    <tr>\n",
              "      <th>0</th>\n",
              "      <td>90</td>\n",
              "      <td>Private</td>\n",
              "      <td>77053</td>\n",
              "      <td>HS-grad</td>\n",
              "      <td>9</td>\n",
              "      <td>Widowed</td>\n",
              "      <td>Prof-specialty</td>\n",
              "      <td>Not-in-family</td>\n",
              "      <td>White</td>\n",
              "      <td>Female</td>\n",
              "      <td>0</td>\n",
              "      <td>4356</td>\n",
              "      <td>40</td>\n",
              "      <td>1</td>\n",
              "      <td>&lt;=50K</td>\n",
              "    </tr>\n",
              "    <tr>\n",
              "      <th>1</th>\n",
              "      <td>82</td>\n",
              "      <td>Private</td>\n",
              "      <td>132870</td>\n",
              "      <td>HS-grad</td>\n",
              "      <td>9</td>\n",
              "      <td>Widowed</td>\n",
              "      <td>Exec-managerial</td>\n",
              "      <td>Not-in-family</td>\n",
              "      <td>White</td>\n",
              "      <td>Female</td>\n",
              "      <td>0</td>\n",
              "      <td>4356</td>\n",
              "      <td>18</td>\n",
              "      <td>1</td>\n",
              "      <td>&lt;=50K</td>\n",
              "    </tr>\n",
              "    <tr>\n",
              "      <th>2</th>\n",
              "      <td>66</td>\n",
              "      <td>Private</td>\n",
              "      <td>186061</td>\n",
              "      <td>Some-college</td>\n",
              "      <td>10</td>\n",
              "      <td>Widowed</td>\n",
              "      <td>Prof-specialty</td>\n",
              "      <td>Unmarried</td>\n",
              "      <td>Black</td>\n",
              "      <td>Female</td>\n",
              "      <td>0</td>\n",
              "      <td>4356</td>\n",
              "      <td>40</td>\n",
              "      <td>1</td>\n",
              "      <td>&lt;=50K</td>\n",
              "    </tr>\n",
              "    <tr>\n",
              "      <th>3</th>\n",
              "      <td>54</td>\n",
              "      <td>Private</td>\n",
              "      <td>140359</td>\n",
              "      <td>elementary_school</td>\n",
              "      <td>4</td>\n",
              "      <td>Separated</td>\n",
              "      <td>Machine-op-inspct</td>\n",
              "      <td>Unmarried</td>\n",
              "      <td>White</td>\n",
              "      <td>Female</td>\n",
              "      <td>0</td>\n",
              "      <td>3900</td>\n",
              "      <td>40</td>\n",
              "      <td>1</td>\n",
              "      <td>&lt;=50K</td>\n",
              "    </tr>\n",
              "    <tr>\n",
              "      <th>4</th>\n",
              "      <td>41</td>\n",
              "      <td>Private</td>\n",
              "      <td>264663</td>\n",
              "      <td>Some-college</td>\n",
              "      <td>10</td>\n",
              "      <td>Separated</td>\n",
              "      <td>Prof-specialty</td>\n",
              "      <td>Own-child</td>\n",
              "      <td>White</td>\n",
              "      <td>Female</td>\n",
              "      <td>0</td>\n",
              "      <td>3900</td>\n",
              "      <td>40</td>\n",
              "      <td>1</td>\n",
              "      <td>&lt;=50K</td>\n",
              "    </tr>\n",
              "  </tbody>\n",
              "</table>\n",
              "</div>\n",
              "      <button class=\"colab-df-convert\" onclick=\"convertToInteractive('df-5d40b32a-9f42-4688-9600-041a704b1d77')\"\n",
              "              title=\"Convert this dataframe to an interactive table.\"\n",
              "              style=\"display:none;\">\n",
              "        \n",
              "  <svg xmlns=\"http://www.w3.org/2000/svg\" height=\"24px\"viewBox=\"0 0 24 24\"\n",
              "       width=\"24px\">\n",
              "    <path d=\"M0 0h24v24H0V0z\" fill=\"none\"/>\n",
              "    <path d=\"M18.56 5.44l.94 2.06.94-2.06 2.06-.94-2.06-.94-.94-2.06-.94 2.06-2.06.94zm-11 1L8.5 8.5l.94-2.06 2.06-.94-2.06-.94L8.5 2.5l-.94 2.06-2.06.94zm10 10l.94 2.06.94-2.06 2.06-.94-2.06-.94-.94-2.06-.94 2.06-2.06.94z\"/><path d=\"M17.41 7.96l-1.37-1.37c-.4-.4-.92-.59-1.43-.59-.52 0-1.04.2-1.43.59L10.3 9.45l-7.72 7.72c-.78.78-.78 2.05 0 2.83L4 21.41c.39.39.9.59 1.41.59.51 0 1.02-.2 1.41-.59l7.78-7.78 2.81-2.81c.8-.78.8-2.07 0-2.86zM5.41 20L4 18.59l7.72-7.72 1.47 1.35L5.41 20z\"/>\n",
              "  </svg>\n",
              "      </button>\n",
              "      \n",
              "  <style>\n",
              "    .colab-df-container {\n",
              "      display:flex;\n",
              "      flex-wrap:wrap;\n",
              "      gap: 12px;\n",
              "    }\n",
              "\n",
              "    .colab-df-convert {\n",
              "      background-color: #E8F0FE;\n",
              "      border: none;\n",
              "      border-radius: 50%;\n",
              "      cursor: pointer;\n",
              "      display: none;\n",
              "      fill: #1967D2;\n",
              "      height: 32px;\n",
              "      padding: 0 0 0 0;\n",
              "      width: 32px;\n",
              "    }\n",
              "\n",
              "    .colab-df-convert:hover {\n",
              "      background-color: #E2EBFA;\n",
              "      box-shadow: 0px 1px 2px rgba(60, 64, 67, 0.3), 0px 1px 3px 1px rgba(60, 64, 67, 0.15);\n",
              "      fill: #174EA6;\n",
              "    }\n",
              "\n",
              "    [theme=dark] .colab-df-convert {\n",
              "      background-color: #3B4455;\n",
              "      fill: #D2E3FC;\n",
              "    }\n",
              "\n",
              "    [theme=dark] .colab-df-convert:hover {\n",
              "      background-color: #434B5C;\n",
              "      box-shadow: 0px 1px 3px 1px rgba(0, 0, 0, 0.15);\n",
              "      filter: drop-shadow(0px 1px 2px rgba(0, 0, 0, 0.3));\n",
              "      fill: #FFFFFF;\n",
              "    }\n",
              "  </style>\n",
              "\n",
              "      <script>\n",
              "        const buttonEl =\n",
              "          document.querySelector('#df-5d40b32a-9f42-4688-9600-041a704b1d77 button.colab-df-convert');\n",
              "        buttonEl.style.display =\n",
              "          google.colab.kernel.accessAllowed ? 'block' : 'none';\n",
              "\n",
              "        async function convertToInteractive(key) {\n",
              "          const element = document.querySelector('#df-5d40b32a-9f42-4688-9600-041a704b1d77');\n",
              "          const dataTable =\n",
              "            await google.colab.kernel.invokeFunction('convertToInteractive',\n",
              "                                                     [key], {});\n",
              "          if (!dataTable) return;\n",
              "\n",
              "          const docLinkHtml = 'Like what you see? Visit the ' +\n",
              "            '<a target=\"_blank\" href=https://colab.research.google.com/notebooks/data_table.ipynb>data table notebook</a>'\n",
              "            + ' to learn more about interactive tables.';\n",
              "          element.innerHTML = '';\n",
              "          dataTable['output_type'] = 'display_data';\n",
              "          await google.colab.output.renderOutput(dataTable, element);\n",
              "          const docLink = document.createElement('div');\n",
              "          docLink.innerHTML = docLinkHtml;\n",
              "          element.appendChild(docLink);\n",
              "        }\n",
              "      </script>\n",
              "    </div>\n",
              "  </div>\n",
              "  "
            ],
            "text/plain": [
              "   age workclass  fnlwgt          education  education.num marital.status  \\\n",
              "0   90   Private   77053            HS-grad              9        Widowed   \n",
              "1   82   Private  132870            HS-grad              9        Widowed   \n",
              "2   66   Private  186061       Some-college             10        Widowed   \n",
              "3   54   Private  140359  elementary_school              4      Separated   \n",
              "4   41   Private  264663       Some-college             10      Separated   \n",
              "\n",
              "          occupation   relationship   race     sex  capital.gain  \\\n",
              "0     Prof-specialty  Not-in-family  White  Female             0   \n",
              "1    Exec-managerial  Not-in-family  White  Female             0   \n",
              "2     Prof-specialty      Unmarried  Black  Female             0   \n",
              "3  Machine-op-inspct      Unmarried  White  Female             0   \n",
              "4     Prof-specialty      Own-child  White  Female             0   \n",
              "\n",
              "   capital.loss  hours.per.week native.country income  \n",
              "0          4356              40              1  <=50K  \n",
              "1          4356              18              1  <=50K  \n",
              "2          4356              40              1  <=50K  \n",
              "3          3900              40              1  <=50K  \n",
              "4          3900              40              1  <=50K  "
            ]
          },
          "execution_count": 13,
          "metadata": {},
          "output_type": "execute_result"
        }
      ],
      "source": [
        "data.head()"
      ]
    },
    {
      "cell_type": "code",
      "execution_count": null,
      "metadata": {
        "colab": {
          "base_uri": "https://localhost:8080/"
        },
        "id": "917kwrVhL1Bq",
        "outputId": "a653de0f-2a87-4250-c4f2-8d86d92e911d"
      },
      "outputs": [
        {
          "data": {
            "text/html": [
              "\n",
              "  <div id=\"df-eb880337-b869-454b-9060-69142432896e\">\n",
              "    <div class=\"colab-df-container\">\n",
              "      <div>\n",
              "<style scoped>\n",
              "    .dataframe tbody tr th:only-of-type {\n",
              "        vertical-align: middle;\n",
              "    }\n",
              "\n",
              "    .dataframe tbody tr th {\n",
              "        vertical-align: top;\n",
              "    }\n",
              "\n",
              "    .dataframe thead th {\n",
              "        text-align: right;\n",
              "    }\n",
              "</style>\n",
              "<table border=\"1\" class=\"dataframe\">\n",
              "  <thead>\n",
              "    <tr style=\"text-align: right;\">\n",
              "      <th></th>\n",
              "      <th>age</th>\n",
              "      <th>workclass</th>\n",
              "      <th>fnlwgt</th>\n",
              "      <th>education</th>\n",
              "      <th>education.num</th>\n",
              "      <th>marital.status</th>\n",
              "      <th>occupation</th>\n",
              "      <th>relationship</th>\n",
              "      <th>race</th>\n",
              "      <th>sex</th>\n",
              "      <th>capital.gain</th>\n",
              "      <th>capital.loss</th>\n",
              "      <th>hours.per.week</th>\n",
              "      <th>native.country</th>\n",
              "      <th>income</th>\n",
              "    </tr>\n",
              "  </thead>\n",
              "  <tbody>\n",
              "    <tr>\n",
              "      <th>0</th>\n",
              "      <td>90</td>\n",
              "      <td>2</td>\n",
              "      <td>77053</td>\n",
              "      <td>4</td>\n",
              "      <td>9</td>\n",
              "      <td>3</td>\n",
              "      <td>9</td>\n",
              "      <td>1</td>\n",
              "      <td>4</td>\n",
              "      <td>0</td>\n",
              "      <td>0</td>\n",
              "      <td>4356</td>\n",
              "      <td>40</td>\n",
              "      <td>1</td>\n",
              "      <td>0</td>\n",
              "    </tr>\n",
              "    <tr>\n",
              "      <th>1</th>\n",
              "      <td>82</td>\n",
              "      <td>2</td>\n",
              "      <td>132870</td>\n",
              "      <td>4</td>\n",
              "      <td>9</td>\n",
              "      <td>3</td>\n",
              "      <td>3</td>\n",
              "      <td>1</td>\n",
              "      <td>4</td>\n",
              "      <td>0</td>\n",
              "      <td>0</td>\n",
              "      <td>4356</td>\n",
              "      <td>18</td>\n",
              "      <td>1</td>\n",
              "      <td>0</td>\n",
              "    </tr>\n",
              "    <tr>\n",
              "      <th>2</th>\n",
              "      <td>66</td>\n",
              "      <td>2</td>\n",
              "      <td>186061</td>\n",
              "      <td>8</td>\n",
              "      <td>10</td>\n",
              "      <td>3</td>\n",
              "      <td>9</td>\n",
              "      <td>4</td>\n",
              "      <td>2</td>\n",
              "      <td>0</td>\n",
              "      <td>0</td>\n",
              "      <td>4356</td>\n",
              "      <td>40</td>\n",
              "      <td>1</td>\n",
              "      <td>0</td>\n",
              "    </tr>\n",
              "    <tr>\n",
              "      <th>3</th>\n",
              "      <td>54</td>\n",
              "      <td>2</td>\n",
              "      <td>140359</td>\n",
              "      <td>9</td>\n",
              "      <td>4</td>\n",
              "      <td>2</td>\n",
              "      <td>6</td>\n",
              "      <td>4</td>\n",
              "      <td>4</td>\n",
              "      <td>0</td>\n",
              "      <td>0</td>\n",
              "      <td>3900</td>\n",
              "      <td>40</td>\n",
              "      <td>1</td>\n",
              "      <td>0</td>\n",
              "    </tr>\n",
              "    <tr>\n",
              "      <th>4</th>\n",
              "      <td>41</td>\n",
              "      <td>2</td>\n",
              "      <td>264663</td>\n",
              "      <td>8</td>\n",
              "      <td>10</td>\n",
              "      <td>2</td>\n",
              "      <td>9</td>\n",
              "      <td>3</td>\n",
              "      <td>4</td>\n",
              "      <td>0</td>\n",
              "      <td>0</td>\n",
              "      <td>3900</td>\n",
              "      <td>40</td>\n",
              "      <td>1</td>\n",
              "      <td>0</td>\n",
              "    </tr>\n",
              "  </tbody>\n",
              "</table>\n",
              "</div>\n",
              "      <button class=\"colab-df-convert\" onclick=\"convertToInteractive('df-eb880337-b869-454b-9060-69142432896e')\"\n",
              "              title=\"Convert this dataframe to an interactive table.\"\n",
              "              style=\"display:none;\">\n",
              "        \n",
              "  <svg xmlns=\"http://www.w3.org/2000/svg\" height=\"24px\"viewBox=\"0 0 24 24\"\n",
              "       width=\"24px\">\n",
              "    <path d=\"M0 0h24v24H0V0z\" fill=\"none\"/>\n",
              "    <path d=\"M18.56 5.44l.94 2.06.94-2.06 2.06-.94-2.06-.94-.94-2.06-.94 2.06-2.06.94zm-11 1L8.5 8.5l.94-2.06 2.06-.94-2.06-.94L8.5 2.5l-.94 2.06-2.06.94zm10 10l.94 2.06.94-2.06 2.06-.94-2.06-.94-.94-2.06-.94 2.06-2.06.94z\"/><path d=\"M17.41 7.96l-1.37-1.37c-.4-.4-.92-.59-1.43-.59-.52 0-1.04.2-1.43.59L10.3 9.45l-7.72 7.72c-.78.78-.78 2.05 0 2.83L4 21.41c.39.39.9.59 1.41.59.51 0 1.02-.2 1.41-.59l7.78-7.78 2.81-2.81c.8-.78.8-2.07 0-2.86zM5.41 20L4 18.59l7.72-7.72 1.47 1.35L5.41 20z\"/>\n",
              "  </svg>\n",
              "      </button>\n",
              "      \n",
              "  <style>\n",
              "    .colab-df-container {\n",
              "      display:flex;\n",
              "      flex-wrap:wrap;\n",
              "      gap: 12px;\n",
              "    }\n",
              "\n",
              "    .colab-df-convert {\n",
              "      background-color: #E8F0FE;\n",
              "      border: none;\n",
              "      border-radius: 50%;\n",
              "      cursor: pointer;\n",
              "      display: none;\n",
              "      fill: #1967D2;\n",
              "      height: 32px;\n",
              "      padding: 0 0 0 0;\n",
              "      width: 32px;\n",
              "    }\n",
              "\n",
              "    .colab-df-convert:hover {\n",
              "      background-color: #E2EBFA;\n",
              "      box-shadow: 0px 1px 2px rgba(60, 64, 67, 0.3), 0px 1px 3px 1px rgba(60, 64, 67, 0.15);\n",
              "      fill: #174EA6;\n",
              "    }\n",
              "\n",
              "    [theme=dark] .colab-df-convert {\n",
              "      background-color: #3B4455;\n",
              "      fill: #D2E3FC;\n",
              "    }\n",
              "\n",
              "    [theme=dark] .colab-df-convert:hover {\n",
              "      background-color: #434B5C;\n",
              "      box-shadow: 0px 1px 3px 1px rgba(0, 0, 0, 0.15);\n",
              "      filter: drop-shadow(0px 1px 2px rgba(0, 0, 0, 0.3));\n",
              "      fill: #FFFFFF;\n",
              "    }\n",
              "  </style>\n",
              "\n",
              "      <script>\n",
              "        const buttonEl =\n",
              "          document.querySelector('#df-eb880337-b869-454b-9060-69142432896e button.colab-df-convert');\n",
              "        buttonEl.style.display =\n",
              "          google.colab.kernel.accessAllowed ? 'block' : 'none';\n",
              "\n",
              "        async function convertToInteractive(key) {\n",
              "          const element = document.querySelector('#df-eb880337-b869-454b-9060-69142432896e');\n",
              "          const dataTable =\n",
              "            await google.colab.kernel.invokeFunction('convertToInteractive',\n",
              "                                                     [key], {});\n",
              "          if (!dataTable) return;\n",
              "\n",
              "          const docLinkHtml = 'Like what you see? Visit the ' +\n",
              "            '<a target=\"_blank\" href=https://colab.research.google.com/notebooks/data_table.ipynb>data table notebook</a>'\n",
              "            + ' to learn more about interactive tables.';\n",
              "          element.innerHTML = '';\n",
              "          dataTable['output_type'] = 'display_data';\n",
              "          await google.colab.output.renderOutput(dataTable, element);\n",
              "          const docLink = document.createElement('div');\n",
              "          docLink.innerHTML = docLinkHtml;\n",
              "          element.appendChild(docLink);\n",
              "        }\n",
              "      </script>\n",
              "    </div>\n",
              "  </div>\n",
              "  "
            ],
            "text/plain": [
              "   age  workclass  fnlwgt  education  education.num  marital.status  \\\n",
              "0   90          2   77053          4              9               3   \n",
              "1   82          2  132870          4              9               3   \n",
              "2   66          2  186061          8             10               3   \n",
              "3   54          2  140359          9              4               2   \n",
              "4   41          2  264663          8             10               2   \n",
              "\n",
              "   occupation  relationship  race  sex  capital.gain  capital.loss  \\\n",
              "0           9             1     4    0             0          4356   \n",
              "1           3             1     4    0             0          4356   \n",
              "2           9             4     2    0             0          4356   \n",
              "3           6             4     4    0             0          3900   \n",
              "4           9             3     4    0             0          3900   \n",
              "\n",
              "   hours.per.week  native.country  income  \n",
              "0              40               1       0  \n",
              "1              18               1       0  \n",
              "2              40               1       0  \n",
              "3              40               1       0  \n",
              "4              40               1       0  "
            ]
          },
          "execution_count": 14,
          "metadata": {},
          "output_type": "execute_result"
        }
      ],
      "source": [
        "#Import label encoder\n",
        "from sklearn import preprocessing\n",
        "\n",
        "#label encoder understands word labels.\n",
        "label_encoder = preprocessing.LabelEncoder()\n",
        "\n",
        "cat_cols = data.select_dtypes(include=['object']).columns\n",
        "for col in cat_cols:\n",
        "  data[col] = label_encoder.fit_transform(data[col])\n",
        "\n",
        "data.head()"
      ]
    },
    {
      "cell_type": "markdown",
      "metadata": {
        "id": "FRiLSIqz77gC"
      },
      "source": [
        "# **Splitting the data**"
      ]
    },
    {
      "cell_type": "code",
      "execution_count": null,
      "metadata": {
        "id": "VmGPX6xm7cSk"
      },
      "outputs": [],
      "source": [
        "# Split the data into features (X) and target (y)\n",
        "X = data.drop('income', axis=1)\n",
        "y = data['income']"
      ]
    },
    {
      "cell_type": "markdown",
      "metadata": {
        "id": "R-RdRusJ8Kes"
      },
      "source": [
        "**Split the data into training and test sets**"
      ]
    },
    {
      "cell_type": "code",
      "execution_count": null,
      "metadata": {
        "id": "08ufXXNV8JRL"
      },
      "outputs": [],
      "source": [
        "X_train, X_test, y_train, y_test = train_test_split(X, y, test_size=0.2)"
      ]
    },
    {
      "cell_type": "markdown",
      "metadata": {
        "id": "1vyUd24NxSno"
      },
      "source": [
        "# Bagging"
      ]
    },
    {
      "cell_type": "markdown",
      "metadata": {
        "id": "FYLueKfvxM82"
      },
      "source": [
        "## 1) Random Forest"
      ]
    },
    {
      "cell_type": "markdown",
      "metadata": {
        "id": "-ilkmLYZ8meS"
      },
      "source": [
        "### **Fitting and Evaluating The Model**"
      ]
    },
    {
      "cell_type": "code",
      "execution_count": null,
      "metadata": {
        "colab": {
          "base_uri": "https://localhost:8080/",
          "height": 74
        },
        "id": "MaJBAtSa8Vh2",
        "outputId": "74ecbaf7-2a72-46e9-947b-6b72a92eb9a7"
      },
      "outputs": [
        {
          "data": {
            "text/html": [
              "<style>#sk-container-id-1 {color: black;background-color: white;}#sk-container-id-1 pre{padding: 0;}#sk-container-id-1 div.sk-toggleable {background-color: white;}#sk-container-id-1 label.sk-toggleable__label {cursor: pointer;display: block;width: 100%;margin-bottom: 0;padding: 0.3em;box-sizing: border-box;text-align: center;}#sk-container-id-1 label.sk-toggleable__label-arrow:before {content: \"▸\";float: left;margin-right: 0.25em;color: #696969;}#sk-container-id-1 label.sk-toggleable__label-arrow:hover:before {color: black;}#sk-container-id-1 div.sk-estimator:hover label.sk-toggleable__label-arrow:before {color: black;}#sk-container-id-1 div.sk-toggleable__content {max-height: 0;max-width: 0;overflow: hidden;text-align: left;background-color: #f0f8ff;}#sk-container-id-1 div.sk-toggleable__content pre {margin: 0.2em;color: black;border-radius: 0.25em;background-color: #f0f8ff;}#sk-container-id-1 input.sk-toggleable__control:checked~div.sk-toggleable__content {max-height: 200px;max-width: 100%;overflow: auto;}#sk-container-id-1 input.sk-toggleable__control:checked~label.sk-toggleable__label-arrow:before {content: \"▾\";}#sk-container-id-1 div.sk-estimator input.sk-toggleable__control:checked~label.sk-toggleable__label {background-color: #d4ebff;}#sk-container-id-1 div.sk-label input.sk-toggleable__control:checked~label.sk-toggleable__label {background-color: #d4ebff;}#sk-container-id-1 input.sk-hidden--visually {border: 0;clip: rect(1px 1px 1px 1px);clip: rect(1px, 1px, 1px, 1px);height: 1px;margin: -1px;overflow: hidden;padding: 0;position: absolute;width: 1px;}#sk-container-id-1 div.sk-estimator {font-family: monospace;background-color: #f0f8ff;border: 1px dotted black;border-radius: 0.25em;box-sizing: border-box;margin-bottom: 0.5em;}#sk-container-id-1 div.sk-estimator:hover {background-color: #d4ebff;}#sk-container-id-1 div.sk-parallel-item::after {content: \"\";width: 100%;border-bottom: 1px solid gray;flex-grow: 1;}#sk-container-id-1 div.sk-label:hover label.sk-toggleable__label {background-color: #d4ebff;}#sk-container-id-1 div.sk-serial::before {content: \"\";position: absolute;border-left: 1px solid gray;box-sizing: border-box;top: 0;bottom: 0;left: 50%;z-index: 0;}#sk-container-id-1 div.sk-serial {display: flex;flex-direction: column;align-items: center;background-color: white;padding-right: 0.2em;padding-left: 0.2em;position: relative;}#sk-container-id-1 div.sk-item {position: relative;z-index: 1;}#sk-container-id-1 div.sk-parallel {display: flex;align-items: stretch;justify-content: center;background-color: white;position: relative;}#sk-container-id-1 div.sk-item::before, #sk-container-id-1 div.sk-parallel-item::before {content: \"\";position: absolute;border-left: 1px solid gray;box-sizing: border-box;top: 0;bottom: 0;left: 50%;z-index: -1;}#sk-container-id-1 div.sk-parallel-item {display: flex;flex-direction: column;z-index: 1;position: relative;background-color: white;}#sk-container-id-1 div.sk-parallel-item:first-child::after {align-self: flex-end;width: 50%;}#sk-container-id-1 div.sk-parallel-item:last-child::after {align-self: flex-start;width: 50%;}#sk-container-id-1 div.sk-parallel-item:only-child::after {width: 0;}#sk-container-id-1 div.sk-dashed-wrapped {border: 1px dashed gray;margin: 0 0.4em 0.5em 0.4em;box-sizing: border-box;padding-bottom: 0.4em;background-color: white;}#sk-container-id-1 div.sk-label label {font-family: monospace;font-weight: bold;display: inline-block;line-height: 1.2em;}#sk-container-id-1 div.sk-label-container {text-align: center;}#sk-container-id-1 div.sk-container {/* jupyter's `normalize.less` sets `[hidden] { display: none; }` but bootstrap.min.css set `[hidden] { display: none !important; }` so we also need the `!important` here to be able to override the default hidden behavior on the sphinx rendered scikit-learn.org. See: https://github.com/scikit-learn/scikit-learn/issues/21755 */display: inline-block !important;position: relative;}#sk-container-id-1 div.sk-text-repr-fallback {display: none;}</style><div id=\"sk-container-id-1\" class=\"sk-top-container\"><div class=\"sk-text-repr-fallback\"><pre>RandomForestClassifier()</pre><b>In a Jupyter environment, please rerun this cell to show the HTML representation or trust the notebook. <br />On GitHub, the HTML representation is unable to render, please try loading this page with nbviewer.org.</b></div><div class=\"sk-container\" hidden><div class=\"sk-item\"><div class=\"sk-estimator sk-toggleable\"><input class=\"sk-toggleable__control sk-hidden--visually\" id=\"sk-estimator-id-1\" type=\"checkbox\" checked><label for=\"sk-estimator-id-1\" class=\"sk-toggleable__label sk-toggleable__label-arrow\">RandomForestClassifier</label><div class=\"sk-toggleable__content\"><pre>RandomForestClassifier()</pre></div></div></div></div></div>"
            ],
            "text/plain": [
              "RandomForestClassifier()"
            ]
          },
          "execution_count": 17,
          "metadata": {},
          "output_type": "execute_result"
        }
      ],
      "source": [
        "rf = RandomForestClassifier()\n",
        "rf.fit(X_train, y_train)"
      ]
    },
    {
      "cell_type": "code",
      "execution_count": null,
      "metadata": {
        "id": "vaN4rDHJ8yaB"
      },
      "outputs": [],
      "source": [
        "y_pred = rf.predict(X_test)"
      ]
    },
    {
      "cell_type": "markdown",
      "metadata": {
        "id": "qzXpfaSr89Gk"
      },
      "source": [
        "**Evaluating The Model**"
      ]
    },
    {
      "cell_type": "code",
      "execution_count": null,
      "metadata": {
        "colab": {
          "base_uri": "https://localhost:8080/"
        },
        "id": "L-3lT64K831m",
        "outputId": "51b27695-ffac-4e35-a628-1ac62f52d5ba"
      },
      "outputs": [
        {
          "name": "stdout",
          "output_type": "stream",
          "text": [
            "Accuracy: 0.8512206356517734\n"
          ]
        }
      ],
      "source": [
        "accuracy = accuracy_score(y_test, y_pred)\n",
        "print(\"Accuracy:\", accuracy) "
      ]
    },
    {
      "cell_type": "markdown",
      "metadata": {
        "id": "129mv9Yv9O66"
      },
      "source": [
        "### **Visualizing the Results**"
      ]
    },
    {
      "cell_type": "code",
      "execution_count": null,
      "metadata": {
        "colab": {
          "base_uri": "https://localhost:8080/",
          "height": 1000
        },
        "id": "_d5QT6qZ9CY6",
        "outputId": "47cd4152-3b76-4c20-dfaf-f7363830f595"
      },
      "outputs": [
        {
          "data": {
            "image/svg+xml": [
              "<?xml version=\"1.0\" encoding=\"UTF-8\" standalone=\"no\"?>\n",
              "<!DOCTYPE svg PUBLIC \"-//W3C//DTD SVG 1.1//EN\"\n",
              " \"http://www.w3.org/Graphics/SVG/1.1/DTD/svg11.dtd\">\n",
              "<!-- Generated by graphviz version 2.43.0 (0)\n",
              " -->\n",
              "<!-- Title: Tree Pages: 1 -->\n",
              "<svg width=\"667pt\" height=\"311pt\"\n",
              " viewBox=\"0.00 0.00 667.00 311.00\" xmlns=\"http://www.w3.org/2000/svg\" xmlns:xlink=\"http://www.w3.org/1999/xlink\">\n",
              "<g id=\"graph0\" class=\"graph\" transform=\"scale(1 1) rotate(0) translate(4 307)\">\n",
              "<title>Tree</title>\n",
              "<polygon fill=\"white\" stroke=\"transparent\" points=\"-4,4 -4,-307 663,-307 663,4 -4,4\"/>\n",
              "<!-- 0 -->\n",
              "<g id=\"node1\" class=\"node\">\n",
              "<title>0</title>\n",
              "<polygon fill=\"#eda877\" stroke=\"black\" points=\"403.5,-303 256.5,-303 256.5,-250 403.5,-250 403.5,-303\"/>\n",
              "<text text-anchor=\"middle\" x=\"330\" y=\"-287.8\" font-family=\"Helvetica,sans-Serif\" font-size=\"14.00\">occupation &lt;= 8.5</text>\n",
              "<text text-anchor=\"middle\" x=\"330\" y=\"-272.8\" font-family=\"Helvetica,sans-Serif\" font-size=\"14.00\">samples = 100.0%</text>\n",
              "<text text-anchor=\"middle\" x=\"330\" y=\"-257.8\" font-family=\"Helvetica,sans-Serif\" font-size=\"14.00\">value = [0.763, 0.237]</text>\n",
              "</g>\n",
              "<!-- 1 -->\n",
              "<g id=\"node2\" class=\"node\">\n",
              "<title>1</title>\n",
              "<polygon fill=\"#eba06a\" stroke=\"black\" points=\"320.5,-214 173.5,-214 173.5,-161 320.5,-161 320.5,-214\"/>\n",
              "<text text-anchor=\"middle\" x=\"247\" y=\"-198.8\" font-family=\"Helvetica,sans-Serif\" font-size=\"14.00\">occupation &lt;= 3.5</text>\n",
              "<text text-anchor=\"middle\" x=\"247\" y=\"-183.8\" font-family=\"Helvetica,sans-Serif\" font-size=\"14.00\">samples = 60.4%</text>\n",
              "<text text-anchor=\"middle\" x=\"247\" y=\"-168.8\" font-family=\"Helvetica,sans-Serif\" font-size=\"14.00\">value = [0.803, 0.197]</text>\n",
              "</g>\n",
              "<!-- 0&#45;&gt;1 -->\n",
              "<g id=\"edge1\" class=\"edge\">\n",
              "<title>0&#45;&gt;1</title>\n",
              "<path fill=\"none\" stroke=\"black\" d=\"M305.55,-249.87C297.09,-241.01 287.5,-230.95 278.56,-221.58\"/>\n",
              "<polygon fill=\"black\" stroke=\"black\" points=\"281,-219.07 271.57,-214.25 275.94,-223.9 281,-219.07\"/>\n",
              "<text text-anchor=\"middle\" x=\"270.98\" y=\"-235.54\" font-family=\"Helvetica,sans-Serif\" font-size=\"14.00\">True</text>\n",
              "</g>\n",
              "<!-- 4314 -->\n",
              "<g id=\"node9\" class=\"node\">\n",
              "<title>4314</title>\n",
              "<polygon fill=\"#f0b78d\" stroke=\"black\" points=\"489,-214 339,-214 339,-161 489,-161 489,-214\"/>\n",
              "<text text-anchor=\"middle\" x=\"414\" y=\"-198.8\" font-family=\"Helvetica,sans-Serif\" font-size=\"14.00\">capital.gain &lt;= 5119.0</text>\n",
              "<text text-anchor=\"middle\" x=\"414\" y=\"-183.8\" font-family=\"Helvetica,sans-Serif\" font-size=\"14.00\">samples = 39.6%</text>\n",
              "<text text-anchor=\"middle\" x=\"414\" y=\"-168.8\" font-family=\"Helvetica,sans-Serif\" font-size=\"14.00\">value = [0.701, 0.299]</text>\n",
              "</g>\n",
              "<!-- 0&#45;&gt;4314 -->\n",
              "<g id=\"edge8\" class=\"edge\">\n",
              "<title>0&#45;&gt;4314</title>\n",
              "<path fill=\"none\" stroke=\"black\" d=\"M354.75,-249.87C363.3,-241.01 373.01,-230.95 382.06,-221.58\"/>\n",
              "<polygon fill=\"black\" stroke=\"black\" points=\"384.71,-223.87 389.14,-214.25 379.67,-219.01 384.71,-223.87\"/>\n",
              "<text text-anchor=\"middle\" x=\"389.58\" y=\"-235.55\" font-family=\"Helvetica,sans-Serif\" font-size=\"14.00\">False</text>\n",
              "</g>\n",
              "<!-- 2 -->\n",
              "<g id=\"node3\" class=\"node\">\n",
              "<title>2</title>\n",
              "<polygon fill=\"#efb286\" stroke=\"black\" points=\"156,-125 0,-125 0,-72 156,-72 156,-125\"/>\n",
              "<text text-anchor=\"middle\" x=\"78\" y=\"-109.8\" font-family=\"Helvetica,sans-Serif\" font-size=\"14.00\">education.num &lt;= 12.5</text>\n",
              "<text text-anchor=\"middle\" x=\"78\" y=\"-94.8\" font-family=\"Helvetica,sans-Serif\" font-size=\"14.00\">samples = 36.2%</text>\n",
              "<text text-anchor=\"middle\" x=\"78\" y=\"-79.8\" font-family=\"Helvetica,sans-Serif\" font-size=\"14.00\">value = [0.721, 0.279]</text>\n",
              "</g>\n",
              "<!-- 1&#45;&gt;2 -->\n",
              "<g id=\"edge2\" class=\"edge\">\n",
              "<title>1&#45;&gt;2</title>\n",
              "<path fill=\"none\" stroke=\"black\" d=\"M197.21,-160.87C178.21,-151.09 156.38,-139.85 136.64,-129.68\"/>\n",
              "<polygon fill=\"black\" stroke=\"black\" points=\"138.22,-126.56 127.73,-125.1 135.02,-132.79 138.22,-126.56\"/>\n",
              "</g>\n",
              "<!-- 3219 -->\n",
              "<g id=\"node6\" class=\"node\">\n",
              "<title>3219</title>\n",
              "<polygon fill=\"#e78b49\" stroke=\"black\" points=\"321.5,-125 174.5,-125 174.5,-72 321.5,-72 321.5,-125\"/>\n",
              "<text text-anchor=\"middle\" x=\"248\" y=\"-109.8\" font-family=\"Helvetica,sans-Serif\" font-size=\"14.00\">occupation &lt;= 6.5</text>\n",
              "<text text-anchor=\"middle\" x=\"248\" y=\"-94.8\" font-family=\"Helvetica,sans-Serif\" font-size=\"14.00\">samples = 24.2%</text>\n",
              "<text text-anchor=\"middle\" x=\"248\" y=\"-79.8\" font-family=\"Helvetica,sans-Serif\" font-size=\"14.00\">value = [0.925, 0.075]</text>\n",
              "</g>\n",
              "<!-- 1&#45;&gt;3219 -->\n",
              "<g id=\"edge5\" class=\"edge\">\n",
              "<title>1&#45;&gt;3219</title>\n",
              "<path fill=\"none\" stroke=\"black\" d=\"M247.29,-160.87C247.39,-152.89 247.49,-143.93 247.59,-135.38\"/>\n",
              "<polygon fill=\"black\" stroke=\"black\" points=\"251.09,-135.29 247.7,-125.25 244.09,-135.21 251.09,-135.29\"/>\n",
              "</g>\n",
              "<!-- 3 -->\n",
              "<g id=\"node4\" class=\"node\">\n",
              "<title>3</title>\n",
              "<polygon fill=\"#c0c0c0\" stroke=\"black\" points=\"104,-36 50,-36 50,0 104,0 104,-36\"/>\n",
              "<text text-anchor=\"middle\" x=\"77\" y=\"-14.3\" font-family=\"Helvetica,sans-Serif\" font-size=\"14.00\">(...)</text>\n",
              "</g>\n",
              "<!-- 2&#45;&gt;3 -->\n",
              "<g id=\"edge3\" class=\"edge\">\n",
              "<title>2&#45;&gt;3</title>\n",
              "<path fill=\"none\" stroke=\"black\" d=\"M77.67,-71.8C77.57,-63.71 77.46,-54.76 77.35,-46.55\"/>\n",
              "<polygon fill=\"black\" stroke=\"black\" points=\"80.85,-46.28 77.22,-36.33 73.85,-46.37 80.85,-46.28\"/>\n",
              "</g>\n",
              "<!-- 2278 -->\n",
              "<g id=\"node5\" class=\"node\">\n",
              "<title>2278</title>\n",
              "<polygon fill=\"#c0c0c0\" stroke=\"black\" points=\"176,-36 122,-36 122,0 176,0 176,-36\"/>\n",
              "<text text-anchor=\"middle\" x=\"149\" y=\"-14.3\" font-family=\"Helvetica,sans-Serif\" font-size=\"14.00\">(...)</text>\n",
              "</g>\n",
              "<!-- 2&#45;&gt;2278 -->\n",
              "<g id=\"edge4\" class=\"edge\">\n",
              "<title>2&#45;&gt;2278</title>\n",
              "<path fill=\"none\" stroke=\"black\" d=\"M101.25,-71.8C109.38,-62.8 118.49,-52.73 126.56,-43.81\"/>\n",
              "<polygon fill=\"black\" stroke=\"black\" points=\"129.21,-46.09 133.33,-36.33 124.02,-41.4 129.21,-46.09\"/>\n",
              "</g>\n",
              "<!-- 3220 -->\n",
              "<g id=\"node7\" class=\"node\">\n",
              "<title>3220</title>\n",
              "<polygon fill=\"#c0c0c0\" stroke=\"black\" points=\"261,-36 207,-36 207,0 261,0 261,-36\"/>\n",
              "<text text-anchor=\"middle\" x=\"234\" y=\"-14.3\" font-family=\"Helvetica,sans-Serif\" font-size=\"14.00\">(...)</text>\n",
              "</g>\n",
              "<!-- 3219&#45;&gt;3220 -->\n",
              "<g id=\"edge6\" class=\"edge\">\n",
              "<title>3219&#45;&gt;3220</title>\n",
              "<path fill=\"none\" stroke=\"black\" d=\"M243.42,-71.8C241.96,-63.62 240.34,-54.55 238.86,-46.27\"/>\n",
              "<polygon fill=\"black\" stroke=\"black\" points=\"242.29,-45.56 237.09,-36.33 235.4,-46.79 242.29,-45.56\"/>\n",
              "</g>\n",
              "<!-- 4001 -->\n",
              "<g id=\"node8\" class=\"node\">\n",
              "<title>4001</title>\n",
              "<polygon fill=\"#c0c0c0\" stroke=\"black\" points=\"333,-36 279,-36 279,0 333,0 333,-36\"/>\n",
              "<text text-anchor=\"middle\" x=\"306\" y=\"-14.3\" font-family=\"Helvetica,sans-Serif\" font-size=\"14.00\">(...)</text>\n",
              "</g>\n",
              "<!-- 3219&#45;&gt;4001 -->\n",
              "<g id=\"edge7\" class=\"edge\">\n",
              "<title>3219&#45;&gt;4001</title>\n",
              "<path fill=\"none\" stroke=\"black\" d=\"M266.99,-71.8C273.43,-63.08 280.63,-53.34 287.07,-44.63\"/>\n",
              "<polygon fill=\"black\" stroke=\"black\" points=\"290.07,-46.45 293.2,-36.33 284.44,-42.29 290.07,-46.45\"/>\n",
              "</g>\n",
              "<!-- 4315 -->\n",
              "<g id=\"node10\" class=\"node\">\n",
              "<title>4315</title>\n",
              "<polygon fill=\"#eead7e\" stroke=\"black\" points=\"488.5,-125 339.5,-125 339.5,-72 488.5,-72 488.5,-125\"/>\n",
              "<text text-anchor=\"middle\" x=\"414\" y=\"-109.8\" font-family=\"Helvetica,sans-Serif\" font-size=\"14.00\">capital.loss &lt;= 1881.5</text>\n",
              "<text text-anchor=\"middle\" x=\"414\" y=\"-94.8\" font-family=\"Helvetica,sans-Serif\" font-size=\"14.00\">samples = 37.2%</text>\n",
              "<text text-anchor=\"middle\" x=\"414\" y=\"-79.8\" font-family=\"Helvetica,sans-Serif\" font-size=\"14.00\">value = [0.743, 0.257]</text>\n",
              "</g>\n",
              "<!-- 4314&#45;&gt;4315 -->\n",
              "<g id=\"edge9\" class=\"edge\">\n",
              "<title>4314&#45;&gt;4315</title>\n",
              "<path fill=\"none\" stroke=\"black\" d=\"M414,-160.87C414,-152.89 414,-143.93 414,-135.38\"/>\n",
              "<polygon fill=\"black\" stroke=\"black\" points=\"417.5,-135.25 414,-125.25 410.5,-135.25 417.5,-135.25\"/>\n",
              "</g>\n",
              "<!-- 7828 -->\n",
              "<g id=\"node13\" class=\"node\">\n",
              "<title>7828</title>\n",
              "<polygon fill=\"#44a2e6\" stroke=\"black\" points=\"653.5,-125 506.5,-125 506.5,-72 653.5,-72 653.5,-125\"/>\n",
              "<text text-anchor=\"middle\" x=\"580\" y=\"-109.8\" font-family=\"Helvetica,sans-Serif\" font-size=\"14.00\">education &lt;= 8.5</text>\n",
              "<text text-anchor=\"middle\" x=\"580\" y=\"-94.8\" font-family=\"Helvetica,sans-Serif\" font-size=\"14.00\">samples = 2.4%</text>\n",
              "<text text-anchor=\"middle\" x=\"580\" y=\"-79.8\" font-family=\"Helvetica,sans-Serif\" font-size=\"14.00\">value = [0.052, 0.948]</text>\n",
              "</g>\n",
              "<!-- 4314&#45;&gt;7828 -->\n",
              "<g id=\"edge12\" class=\"edge\">\n",
              "<title>4314&#45;&gt;7828</title>\n",
              "<path fill=\"none\" stroke=\"black\" d=\"M462.91,-160.87C481.48,-151.13 502.82,-139.95 522.14,-129.82\"/>\n",
              "<polygon fill=\"black\" stroke=\"black\" points=\"523.92,-132.84 531.16,-125.1 520.67,-126.64 523.92,-132.84\"/>\n",
              "</g>\n",
              "<!-- 4316 -->\n",
              "<g id=\"node11\" class=\"node\">\n",
              "<title>4316</title>\n",
              "<polygon fill=\"#c0c0c0\" stroke=\"black\" points=\"423,-36 369,-36 369,0 423,0 423,-36\"/>\n",
              "<text text-anchor=\"middle\" x=\"396\" y=\"-14.3\" font-family=\"Helvetica,sans-Serif\" font-size=\"14.00\">(...)</text>\n",
              "</g>\n",
              "<!-- 4315&#45;&gt;4316 -->\n",
              "<g id=\"edge10\" class=\"edge\">\n",
              "<title>4315&#45;&gt;4316</title>\n",
              "<path fill=\"none\" stroke=\"black\" d=\"M408.11,-71.8C406.23,-63.62 404.15,-54.55 402.25,-46.27\"/>\n",
              "<polygon fill=\"black\" stroke=\"black\" points=\"405.62,-45.3 399.97,-36.33 398.8,-46.86 405.62,-45.3\"/>\n",
              "</g>\n",
              "<!-- 7723 -->\n",
              "<g id=\"node12\" class=\"node\">\n",
              "<title>7723</title>\n",
              "<polygon fill=\"#c0c0c0\" stroke=\"black\" points=\"495,-36 441,-36 441,0 495,0 495,-36\"/>\n",
              "<text text-anchor=\"middle\" x=\"468\" y=\"-14.3\" font-family=\"Helvetica,sans-Serif\" font-size=\"14.00\">(...)</text>\n",
              "</g>\n",
              "<!-- 4315&#45;&gt;7723 -->\n",
              "<g id=\"edge11\" class=\"edge\">\n",
              "<title>4315&#45;&gt;7723</title>\n",
              "<path fill=\"none\" stroke=\"black\" d=\"M431.68,-71.8C437.68,-63.08 444.38,-53.34 450.37,-44.63\"/>\n",
              "<polygon fill=\"black\" stroke=\"black\" points=\"453.29,-46.55 456.08,-36.33 447.53,-42.59 453.29,-46.55\"/>\n",
              "</g>\n",
              "<!-- 7829 -->\n",
              "<g id=\"node14\" class=\"node\">\n",
              "<title>7829</title>\n",
              "<polygon fill=\"#c0c0c0\" stroke=\"black\" points=\"587,-36 533,-36 533,0 587,0 587,-36\"/>\n",
              "<text text-anchor=\"middle\" x=\"560\" y=\"-14.3\" font-family=\"Helvetica,sans-Serif\" font-size=\"14.00\">(...)</text>\n",
              "</g>\n",
              "<!-- 7828&#45;&gt;7829 -->\n",
              "<g id=\"edge13\" class=\"edge\">\n",
              "<title>7828&#45;&gt;7829</title>\n",
              "<path fill=\"none\" stroke=\"black\" d=\"M573.45,-71.8C571.37,-63.62 569.06,-54.55 566.95,-46.27\"/>\n",
              "<polygon fill=\"black\" stroke=\"black\" points=\"570.28,-45.16 564.42,-36.33 563.49,-46.88 570.28,-45.16\"/>\n",
              "</g>\n",
              "<!-- 7888 -->\n",
              "<g id=\"node15\" class=\"node\">\n",
              "<title>7888</title>\n",
              "<polygon fill=\"#c0c0c0\" stroke=\"black\" points=\"659,-36 605,-36 605,0 659,0 659,-36\"/>\n",
              "<text text-anchor=\"middle\" x=\"632\" y=\"-14.3\" font-family=\"Helvetica,sans-Serif\" font-size=\"14.00\">(...)</text>\n",
              "</g>\n",
              "<!-- 7828&#45;&gt;7888 -->\n",
              "<g id=\"edge14\" class=\"edge\">\n",
              "<title>7828&#45;&gt;7888</title>\n",
              "<path fill=\"none\" stroke=\"black\" d=\"M597.03,-71.8C602.74,-63.17 609.12,-53.54 614.84,-44.9\"/>\n",
              "<polygon fill=\"black\" stroke=\"black\" points=\"617.92,-46.6 620.52,-36.33 612.08,-42.73 617.92,-46.6\"/>\n",
              "</g>\n",
              "</g>\n",
              "</svg>\n"
            ],
            "text/plain": [
              "<graphviz.sources.Source at 0x7fc91c7b74f0>"
            ]
          },
          "metadata": {},
          "output_type": "display_data"
        },
        {
          "data": {
            "image/svg+xml": [
              "<?xml version=\"1.0\" encoding=\"UTF-8\" standalone=\"no\"?>\n",
              "<!DOCTYPE svg PUBLIC \"-//W3C//DTD SVG 1.1//EN\"\n",
              " \"http://www.w3.org/Graphics/SVG/1.1/DTD/svg11.dtd\">\n",
              "<!-- Generated by graphviz version 2.43.0 (0)\n",
              " -->\n",
              "<!-- Title: Tree Pages: 1 -->\n",
              "<svg width=\"666pt\" height=\"311pt\"\n",
              " viewBox=\"0.00 0.00 666.00 311.00\" xmlns=\"http://www.w3.org/2000/svg\" xmlns:xlink=\"http://www.w3.org/1999/xlink\">\n",
              "<g id=\"graph0\" class=\"graph\" transform=\"scale(1 1) rotate(0) translate(4 307)\">\n",
              "<title>Tree</title>\n",
              "<polygon fill=\"white\" stroke=\"transparent\" points=\"-4,4 -4,-307 662,-307 662,4 -4,4\"/>\n",
              "<!-- 0 -->\n",
              "<g id=\"node1\" class=\"node\">\n",
              "<title>0</title>\n",
              "<polygon fill=\"#eda876\" stroke=\"black\" points=\"400,-303 253,-303 253,-250 400,-250 400,-303\"/>\n",
              "<text text-anchor=\"middle\" x=\"326.5\" y=\"-287.8\" font-family=\"Helvetica,sans-Serif\" font-size=\"14.00\">marital.status &lt;= 0.5</text>\n",
              "<text text-anchor=\"middle\" x=\"326.5\" y=\"-272.8\" font-family=\"Helvetica,sans-Serif\" font-size=\"14.00\">samples = 100.0%</text>\n",
              "<text text-anchor=\"middle\" x=\"326.5\" y=\"-257.8\" font-family=\"Helvetica,sans-Serif\" font-size=\"14.00\">value = [0.763, 0.237]</text>\n",
              "</g>\n",
              "<!-- 1 -->\n",
              "<g id=\"node2\" class=\"node\">\n",
              "<title>1</title>\n",
              "<polygon fill=\"#f9e1d0\" stroke=\"black\" points=\"316,-214 167,-214 167,-161 316,-161 316,-214\"/>\n",
              "<text text-anchor=\"middle\" x=\"241.5\" y=\"-198.8\" font-family=\"Helvetica,sans-Serif\" font-size=\"14.00\">capital.loss &lt;= 1793.5</text>\n",
              "<text text-anchor=\"middle\" x=\"241.5\" y=\"-183.8\" font-family=\"Helvetica,sans-Serif\" font-size=\"14.00\">samples = 47.4%</text>\n",
              "<text text-anchor=\"middle\" x=\"241.5\" y=\"-168.8\" font-family=\"Helvetica,sans-Serif\" font-size=\"14.00\">value = [0.568, 0.432]</text>\n",
              "</g>\n",
              "<!-- 0&#45;&gt;1 -->\n",
              "<g id=\"edge1\" class=\"edge\">\n",
              "<title>0&#45;&gt;1</title>\n",
              "<path fill=\"none\" stroke=\"black\" d=\"M301.46,-249.87C292.8,-241.01 282.98,-230.95 273.82,-221.58\"/>\n",
              "<polygon fill=\"black\" stroke=\"black\" points=\"276.15,-218.96 266.66,-214.25 271.14,-223.85 276.15,-218.96\"/>\n",
              "<text text-anchor=\"middle\" x=\"266.37\" y=\"-235.55\" font-family=\"Helvetica,sans-Serif\" font-size=\"14.00\">True</text>\n",
              "</g>\n",
              "<!-- 5702 -->\n",
              "<g id=\"node9\" class=\"node\">\n",
              "<title>5702</title>\n",
              "<polygon fill=\"#e78946\" stroke=\"black\" points=\"478.5,-214 346.5,-214 346.5,-161 478.5,-161 478.5,-214\"/>\n",
              "<text text-anchor=\"middle\" x=\"412.5\" y=\"-198.8\" font-family=\"Helvetica,sans-Serif\" font-size=\"14.00\">age &lt;= 27.5</text>\n",
              "<text text-anchor=\"middle\" x=\"412.5\" y=\"-183.8\" font-family=\"Helvetica,sans-Serif\" font-size=\"14.00\">samples = 52.6%</text>\n",
              "<text text-anchor=\"middle\" x=\"412.5\" y=\"-168.8\" font-family=\"Helvetica,sans-Serif\" font-size=\"14.00\">value = [0.94, 0.06]</text>\n",
              "</g>\n",
              "<!-- 0&#45;&gt;5702 -->\n",
              "<g id=\"edge8\" class=\"edge\">\n",
              "<title>0&#45;&gt;5702</title>\n",
              "<path fill=\"none\" stroke=\"black\" d=\"M351.84,-249.87C360.6,-241.01 370.54,-230.95 379.8,-221.58\"/>\n",
              "<polygon fill=\"black\" stroke=\"black\" points=\"382.51,-223.82 387.05,-214.25 377.53,-218.9 382.51,-223.82\"/>\n",
              "<text text-anchor=\"middle\" x=\"387.19\" y=\"-235.55\" font-family=\"Helvetica,sans-Serif\" font-size=\"14.00\">False</text>\n",
              "</g>\n",
              "<!-- 2 -->\n",
              "<g id=\"node3\" class=\"node\">\n",
              "<title>2</title>\n",
              "<polygon fill=\"#f7d9c3\" stroke=\"black\" points=\"149,-125 0,-125 0,-72 149,-72 149,-125\"/>\n",
              "<text text-anchor=\"middle\" x=\"74.5\" y=\"-109.8\" font-family=\"Helvetica,sans-Serif\" font-size=\"14.00\">capital.loss &lt;= 1568.5</text>\n",
              "<text text-anchor=\"middle\" x=\"74.5\" y=\"-94.8\" font-family=\"Helvetica,sans-Serif\" font-size=\"14.00\">samples = 45.1%</text>\n",
              "<text text-anchor=\"middle\" x=\"74.5\" y=\"-79.8\" font-family=\"Helvetica,sans-Serif\" font-size=\"14.00\">value = [0.589, 0.411]</text>\n",
              "</g>\n",
              "<!-- 1&#45;&gt;2 -->\n",
              "<g id=\"edge2\" class=\"edge\">\n",
              "<title>1&#45;&gt;2</title>\n",
              "<path fill=\"none\" stroke=\"black\" d=\"M192.3,-160.87C173.61,-151.13 152.15,-139.95 132.71,-129.82\"/>\n",
              "<polygon fill=\"black\" stroke=\"black\" points=\"134.12,-126.62 123.64,-125.1 130.89,-132.82 134.12,-126.62\"/>\n",
              "</g>\n",
              "<!-- 5641 -->\n",
              "<g id=\"node6\" class=\"node\">\n",
              "<title>5641</title>\n",
              "<polygon fill=\"#5aade9\" stroke=\"black\" points=\"316,-125 167,-125 167,-72 316,-72 316,-125\"/>\n",
              "<text text-anchor=\"middle\" x=\"241.5\" y=\"-109.8\" font-family=\"Helvetica,sans-Serif\" font-size=\"14.00\">capital.loss &lt;= 1978.5</text>\n",
              "<text text-anchor=\"middle\" x=\"241.5\" y=\"-94.8\" font-family=\"Helvetica,sans-Serif\" font-size=\"14.00\">samples = 2.3%</text>\n",
              "<text text-anchor=\"middle\" x=\"241.5\" y=\"-79.8\" font-family=\"Helvetica,sans-Serif\" font-size=\"14.00\">value = [0.144, 0.856]</text>\n",
              "</g>\n",
              "<!-- 1&#45;&gt;5641 -->\n",
              "<g id=\"edge5\" class=\"edge\">\n",
              "<title>1&#45;&gt;5641</title>\n",
              "<path fill=\"none\" stroke=\"black\" d=\"M241.5,-160.87C241.5,-152.89 241.5,-143.93 241.5,-135.38\"/>\n",
              "<polygon fill=\"black\" stroke=\"black\" points=\"245,-135.25 241.5,-125.25 238,-135.25 245,-135.25\"/>\n",
              "</g>\n",
              "<!-- 3 -->\n",
              "<g id=\"node4\" class=\"node\">\n",
              "<title>3</title>\n",
              "<polygon fill=\"#c0c0c0\" stroke=\"black\" points=\"65.5,-36 11.5,-36 11.5,0 65.5,0 65.5,-36\"/>\n",
              "<text text-anchor=\"middle\" x=\"38.5\" y=\"-14.3\" font-family=\"Helvetica,sans-Serif\" font-size=\"14.00\">(...)</text>\n",
              "</g>\n",
              "<!-- 2&#45;&gt;3 -->\n",
              "<g id=\"edge3\" class=\"edge\">\n",
              "<title>2&#45;&gt;3</title>\n",
              "<path fill=\"none\" stroke=\"black\" d=\"M62.71,-71.8C58.84,-63.35 54.53,-53.95 50.63,-45.45\"/>\n",
              "<polygon fill=\"black\" stroke=\"black\" points=\"53.8,-43.96 46.45,-36.33 47.43,-46.88 53.8,-43.96\"/>\n",
              "</g>\n",
              "<!-- 5640 -->\n",
              "<g id=\"node5\" class=\"node\">\n",
              "<title>5640</title>\n",
              "<polygon fill=\"#c0c0c0\" stroke=\"black\" points=\"137.5,-36 83.5,-36 83.5,0 137.5,0 137.5,-36\"/>\n",
              "<text text-anchor=\"middle\" x=\"110.5\" y=\"-14.3\" font-family=\"Helvetica,sans-Serif\" font-size=\"14.00\">(...)</text>\n",
              "</g>\n",
              "<!-- 2&#45;&gt;5640 -->\n",
              "<g id=\"edge4\" class=\"edge\">\n",
              "<title>2&#45;&gt;5640</title>\n",
              "<path fill=\"none\" stroke=\"black\" d=\"M86.29,-71.8C90.16,-63.35 94.47,-53.95 98.37,-45.45\"/>\n",
              "<polygon fill=\"black\" stroke=\"black\" points=\"101.57,-46.88 102.55,-36.33 95.2,-43.96 101.57,-46.88\"/>\n",
              "</g>\n",
              "<!-- 5642 -->\n",
              "<g id=\"node7\" class=\"node\">\n",
              "<title>5642</title>\n",
              "<polygon fill=\"#c0c0c0\" stroke=\"black\" points=\"244.5,-36 190.5,-36 190.5,0 244.5,0 244.5,-36\"/>\n",
              "<text text-anchor=\"middle\" x=\"217.5\" y=\"-14.3\" font-family=\"Helvetica,sans-Serif\" font-size=\"14.00\">(...)</text>\n",
              "</g>\n",
              "<!-- 5641&#45;&gt;5642 -->\n",
              "<g id=\"edge6\" class=\"edge\">\n",
              "<title>5641&#45;&gt;5642</title>\n",
              "<path fill=\"none\" stroke=\"black\" d=\"M233.64,-71.8C231.11,-63.53 228.31,-54.35 225.75,-46\"/>\n",
              "<polygon fill=\"black\" stroke=\"black\" points=\"229.07,-44.87 222.8,-36.33 222.38,-46.92 229.07,-44.87\"/>\n",
              "</g>\n",
              "<!-- 5669 -->\n",
              "<g id=\"node8\" class=\"node\">\n",
              "<title>5669</title>\n",
              "<polygon fill=\"#c0c0c0\" stroke=\"black\" points=\"316.5,-36 262.5,-36 262.5,0 316.5,0 316.5,-36\"/>\n",
              "<text text-anchor=\"middle\" x=\"289.5\" y=\"-14.3\" font-family=\"Helvetica,sans-Serif\" font-size=\"14.00\">(...)</text>\n",
              "</g>\n",
              "<!-- 5641&#45;&gt;5669 -->\n",
              "<g id=\"edge7\" class=\"edge\">\n",
              "<title>5641&#45;&gt;5669</title>\n",
              "<path fill=\"none\" stroke=\"black\" d=\"M257.22,-71.8C262.49,-63.17 268.38,-53.54 273.66,-44.9\"/>\n",
              "<polygon fill=\"black\" stroke=\"black\" points=\"276.67,-46.69 278.9,-36.33 270.7,-43.04 276.67,-46.69\"/>\n",
              "</g>\n",
              "<!-- 5703 -->\n",
              "<g id=\"node10\" class=\"node\">\n",
              "<title>5703</title>\n",
              "<polygon fill=\"#e5823b\" stroke=\"black\" points=\"491.5,-125 333.5,-125 333.5,-72 491.5,-72 491.5,-125\"/>\n",
              "<text text-anchor=\"middle\" x=\"412.5\" y=\"-109.8\" font-family=\"Helvetica,sans-Serif\" font-size=\"14.00\">hours.per.week &lt;= 62.0</text>\n",
              "<text text-anchor=\"middle\" x=\"412.5\" y=\"-94.8\" font-family=\"Helvetica,sans-Serif\" font-size=\"14.00\">samples = 20.9%</text>\n",
              "<text text-anchor=\"middle\" x=\"412.5\" y=\"-79.8\" font-family=\"Helvetica,sans-Serif\" font-size=\"14.00\">value = [0.989, 0.011]</text>\n",
              "</g>\n",
              "<!-- 5702&#45;&gt;5703 -->\n",
              "<g id=\"edge9\" class=\"edge\">\n",
              "<title>5702&#45;&gt;5703</title>\n",
              "<path fill=\"none\" stroke=\"black\" d=\"M412.5,-160.87C412.5,-152.89 412.5,-143.93 412.5,-135.38\"/>\n",
              "<polygon fill=\"black\" stroke=\"black\" points=\"416,-135.25 412.5,-125.25 409,-135.25 416,-135.25\"/>\n",
              "</g>\n",
              "<!-- 5950 -->\n",
              "<g id=\"node13\" class=\"node\">\n",
              "<title>5950</title>\n",
              "<polygon fill=\"#e88e4d\" stroke=\"black\" points=\"658,-125 509,-125 509,-72 658,-72 658,-125\"/>\n",
              "<text text-anchor=\"middle\" x=\"583.5\" y=\"-109.8\" font-family=\"Helvetica,sans-Serif\" font-size=\"14.00\">capital.loss &lt;= 2391.5</text>\n",
              "<text text-anchor=\"middle\" x=\"583.5\" y=\"-94.8\" font-family=\"Helvetica,sans-Serif\" font-size=\"14.00\">samples = 31.7%</text>\n",
              "<text text-anchor=\"middle\" x=\"583.5\" y=\"-79.8\" font-family=\"Helvetica,sans-Serif\" font-size=\"14.00\">value = [0.907, 0.093]</text>\n",
              "</g>\n",
              "<!-- 5702&#45;&gt;5950 -->\n",
              "<g id=\"edge12\" class=\"edge\">\n",
              "<title>5702&#45;&gt;5950</title>\n",
              "<path fill=\"none\" stroke=\"black\" d=\"M462.88,-160.87C482.1,-151.09 504.19,-139.85 524.17,-129.68\"/>\n",
              "<polygon fill=\"black\" stroke=\"black\" points=\"525.86,-132.75 533.18,-125.1 522.68,-126.51 525.86,-132.75\"/>\n",
              "</g>\n",
              "<!-- 5704 -->\n",
              "<g id=\"node11\" class=\"node\">\n",
              "<title>5704</title>\n",
              "<polygon fill=\"#c0c0c0\" stroke=\"black\" points=\"408.5,-36 354.5,-36 354.5,0 408.5,0 408.5,-36\"/>\n",
              "<text text-anchor=\"middle\" x=\"381.5\" y=\"-14.3\" font-family=\"Helvetica,sans-Serif\" font-size=\"14.00\">(...)</text>\n",
              "</g>\n",
              "<!-- 5703&#45;&gt;5704 -->\n",
              "<g id=\"edge10\" class=\"edge\">\n",
              "<title>5703&#45;&gt;5704</title>\n",
              "<path fill=\"none\" stroke=\"black\" d=\"M402.35,-71.8C399.05,-63.44 395.38,-54.15 392.05,-45.72\"/>\n",
              "<polygon fill=\"black\" stroke=\"black\" points=\"395.27,-44.35 388.34,-36.33 388.76,-46.92 395.27,-44.35\"/>\n",
              "</g>\n",
              "<!-- 5927 -->\n",
              "<g id=\"node12\" class=\"node\">\n",
              "<title>5927</title>\n",
              "<polygon fill=\"#c0c0c0\" stroke=\"black\" points=\"480.5,-36 426.5,-36 426.5,0 480.5,0 480.5,-36\"/>\n",
              "<text text-anchor=\"middle\" x=\"453.5\" y=\"-14.3\" font-family=\"Helvetica,sans-Serif\" font-size=\"14.00\">(...)</text>\n",
              "</g>\n",
              "<!-- 5703&#45;&gt;5927 -->\n",
              "<g id=\"edge11\" class=\"edge\">\n",
              "<title>5703&#45;&gt;5927</title>\n",
              "<path fill=\"none\" stroke=\"black\" d=\"M425.92,-71.8C430.34,-63.35 435.25,-53.95 439.69,-45.45\"/>\n",
              "<polygon fill=\"black\" stroke=\"black\" points=\"442.92,-46.81 444.45,-36.33 436.72,-43.57 442.92,-46.81\"/>\n",
              "</g>\n",
              "<!-- 5951 -->\n",
              "<g id=\"node14\" class=\"node\">\n",
              "<title>5951</title>\n",
              "<polygon fill=\"#c0c0c0\" stroke=\"black\" points=\"562.5,-36 508.5,-36 508.5,0 562.5,0 562.5,-36\"/>\n",
              "<text text-anchor=\"middle\" x=\"535.5\" y=\"-14.3\" font-family=\"Helvetica,sans-Serif\" font-size=\"14.00\">(...)</text>\n",
              "</g>\n",
              "<!-- 5950&#45;&gt;5951 -->\n",
              "<g id=\"edge13\" class=\"edge\">\n",
              "<title>5950&#45;&gt;5951</title>\n",
              "<path fill=\"none\" stroke=\"black\" d=\"M567.78,-71.8C562.51,-63.17 556.62,-53.54 551.34,-44.9\"/>\n",
              "<polygon fill=\"black\" stroke=\"black\" points=\"554.3,-43.04 546.1,-36.33 548.33,-46.69 554.3,-43.04\"/>\n",
              "</g>\n",
              "<!-- 7628 -->\n",
              "<g id=\"node15\" class=\"node\">\n",
              "<title>7628</title>\n",
              "<polygon fill=\"#c0c0c0\" stroke=\"black\" points=\"634.5,-36 580.5,-36 580.5,0 634.5,0 634.5,-36\"/>\n",
              "<text text-anchor=\"middle\" x=\"607.5\" y=\"-14.3\" font-family=\"Helvetica,sans-Serif\" font-size=\"14.00\">(...)</text>\n",
              "</g>\n",
              "<!-- 5950&#45;&gt;7628 -->\n",
              "<g id=\"edge14\" class=\"edge\">\n",
              "<title>5950&#45;&gt;7628</title>\n",
              "<path fill=\"none\" stroke=\"black\" d=\"M591.36,-71.8C593.89,-63.53 596.69,-54.35 599.25,-46\"/>\n",
              "<polygon fill=\"black\" stroke=\"black\" points=\"602.62,-46.92 602.2,-36.33 595.93,-44.87 602.62,-46.92\"/>\n",
              "</g>\n",
              "</g>\n",
              "</svg>\n"
            ],
            "text/plain": [
              "<graphviz.sources.Source at 0x7fc91c7b7310>"
            ]
          },
          "metadata": {},
          "output_type": "display_data"
        },
        {
          "data": {
            "image/svg+xml": [
              "<?xml version=\"1.0\" encoding=\"UTF-8\" standalone=\"no\"?>\n",
              "<!DOCTYPE svg PUBLIC \"-//W3C//DTD SVG 1.1//EN\"\n",
              " \"http://www.w3.org/Graphics/SVG/1.1/DTD/svg11.dtd\">\n",
              "<!-- Generated by graphviz version 2.43.0 (0)\n",
              " -->\n",
              "<!-- Title: Tree Pages: 1 -->\n",
              "<svg width=\"642pt\" height=\"311pt\"\n",
              " viewBox=\"0.00 0.00 642.00 311.00\" xmlns=\"http://www.w3.org/2000/svg\" xmlns:xlink=\"http://www.w3.org/1999/xlink\">\n",
              "<g id=\"graph0\" class=\"graph\" transform=\"scale(1 1) rotate(0) translate(4 307)\">\n",
              "<title>Tree</title>\n",
              "<polygon fill=\"white\" stroke=\"transparent\" points=\"-4,4 -4,-307 638,-307 638,4 -4,4\"/>\n",
              "<!-- 0 -->\n",
              "<g id=\"node1\" class=\"node\">\n",
              "<title>0</title>\n",
              "<polygon fill=\"#eda978\" stroke=\"black\" points=\"386.5,-303 239.5,-303 239.5,-250 386.5,-250 386.5,-303\"/>\n",
              "<text text-anchor=\"middle\" x=\"313\" y=\"-287.8\" font-family=\"Helvetica,sans-Serif\" font-size=\"14.00\">sex &lt;= 0.5</text>\n",
              "<text text-anchor=\"middle\" x=\"313\" y=\"-272.8\" font-family=\"Helvetica,sans-Serif\" font-size=\"14.00\">samples = 100.0%</text>\n",
              "<text text-anchor=\"middle\" x=\"313\" y=\"-257.8\" font-family=\"Helvetica,sans-Serif\" font-size=\"14.00\">value = [0.758, 0.242]</text>\n",
              "</g>\n",
              "<!-- 1 -->\n",
              "<g id=\"node2\" class=\"node\">\n",
              "<title>1</title>\n",
              "<polygon fill=\"#e89051\" stroke=\"black\" points=\"307.5,-214 160.5,-214 160.5,-161 307.5,-161 307.5,-214\"/>\n",
              "<text text-anchor=\"middle\" x=\"234\" y=\"-198.8\" font-family=\"Helvetica,sans-Serif\" font-size=\"14.00\">relationship &lt;= 4.5</text>\n",
              "<text text-anchor=\"middle\" x=\"234\" y=\"-183.8\" font-family=\"Helvetica,sans-Serif\" font-size=\"14.00\">samples = 33.0%</text>\n",
              "<text text-anchor=\"middle\" x=\"234\" y=\"-168.8\" font-family=\"Helvetica,sans-Serif\" font-size=\"14.00\">value = [0.893, 0.107]</text>\n",
              "</g>\n",
              "<!-- 0&#45;&gt;1 -->\n",
              "<g id=\"edge1\" class=\"edge\">\n",
              "<title>0&#45;&gt;1</title>\n",
              "<path fill=\"none\" stroke=\"black\" d=\"M289.72,-249.87C281.76,-241.1 272.73,-231.15 264.29,-221.86\"/>\n",
              "<polygon fill=\"black\" stroke=\"black\" points=\"266.7,-219.3 257.38,-214.25 261.51,-224.01 266.7,-219.3\"/>\n",
              "<text text-anchor=\"middle\" x=\"256.18\" y=\"-235.52\" font-family=\"Helvetica,sans-Serif\" font-size=\"14.00\">True</text>\n",
              "</g>\n",
              "<!-- 1442 -->\n",
              "<g id=\"node9\" class=\"node\">\n",
              "<title>1442</title>\n",
              "<polygon fill=\"#f1ba92\" stroke=\"black\" points=\"458,-214 326,-214 326,-161 458,-161 458,-214\"/>\n",
              "<text text-anchor=\"middle\" x=\"392\" y=\"-198.8\" font-family=\"Helvetica,sans-Serif\" font-size=\"14.00\">relationship &lt;= 0.5</text>\n",
              "<text text-anchor=\"middle\" x=\"392\" y=\"-183.8\" font-family=\"Helvetica,sans-Serif\" font-size=\"14.00\">samples = 67.0%</text>\n",
              "<text text-anchor=\"middle\" x=\"392\" y=\"-168.8\" font-family=\"Helvetica,sans-Serif\" font-size=\"14.00\">value = [0.69, 0.31]</text>\n",
              "</g>\n",
              "<!-- 0&#45;&gt;1442 -->\n",
              "<g id=\"edge8\" class=\"edge\">\n",
              "<title>0&#45;&gt;1442</title>\n",
              "<path fill=\"none\" stroke=\"black\" d=\"M336.28,-249.87C344.24,-241.1 353.27,-231.15 361.71,-221.86\"/>\n",
              "<polygon fill=\"black\" stroke=\"black\" points=\"364.49,-224.01 368.62,-214.25 359.3,-219.3 364.49,-224.01\"/>\n",
              "<text text-anchor=\"middle\" x=\"369.82\" y=\"-235.52\" font-family=\"Helvetica,sans-Serif\" font-size=\"14.00\">False</text>\n",
              "</g>\n",
              "<!-- 2 -->\n",
              "<g id=\"node3\" class=\"node\">\n",
              "<title>2</title>\n",
              "<polygon fill=\"#e68743\" stroke=\"black\" points=\"150,-125 0,-125 0,-72 150,-72 150,-125\"/>\n",
              "<text text-anchor=\"middle\" x=\"75\" y=\"-109.8\" font-family=\"Helvetica,sans-Serif\" font-size=\"14.00\">capital.gain &lt;= 7073.5</text>\n",
              "<text text-anchor=\"middle\" x=\"75\" y=\"-94.8\" font-family=\"Helvetica,sans-Serif\" font-size=\"14.00\">samples = 28.1%</text>\n",
              "<text text-anchor=\"middle\" x=\"75\" y=\"-79.8\" font-family=\"Helvetica,sans-Serif\" font-size=\"14.00\">value = [0.953, 0.047]</text>\n",
              "</g>\n",
              "<!-- 1&#45;&gt;2 -->\n",
              "<g id=\"edge2\" class=\"edge\">\n",
              "<title>1&#45;&gt;2</title>\n",
              "<path fill=\"none\" stroke=\"black\" d=\"M187.15,-160.87C169.44,-151.18 149.11,-140.05 130.67,-129.96\"/>\n",
              "<polygon fill=\"black\" stroke=\"black\" points=\"132.24,-126.83 121.78,-125.1 128.88,-132.97 132.24,-126.83\"/>\n",
              "</g>\n",
              "<!-- 833 -->\n",
              "<g id=\"node6\" class=\"node\">\n",
              "<title>833</title>\n",
              "<polygon fill=\"#fbede2\" stroke=\"black\" points=\"300,-125 168,-125 168,-72 300,-72 300,-125\"/>\n",
              "<text text-anchor=\"middle\" x=\"234\" y=\"-109.8\" font-family=\"Helvetica,sans-Serif\" font-size=\"14.00\">age &lt;= 31.5</text>\n",
              "<text text-anchor=\"middle\" x=\"234\" y=\"-94.8\" font-family=\"Helvetica,sans-Serif\" font-size=\"14.00\">samples = 4.9%</text>\n",
              "<text text-anchor=\"middle\" x=\"234\" y=\"-79.8\" font-family=\"Helvetica,sans-Serif\" font-size=\"14.00\">value = [0.54, 0.46]</text>\n",
              "</g>\n",
              "<!-- 1&#45;&gt;833 -->\n",
              "<g id=\"edge5\" class=\"edge\">\n",
              "<title>1&#45;&gt;833</title>\n",
              "<path fill=\"none\" stroke=\"black\" d=\"M234,-160.87C234,-152.89 234,-143.93 234,-135.38\"/>\n",
              "<polygon fill=\"black\" stroke=\"black\" points=\"237.5,-135.25 234,-125.25 230.5,-135.25 237.5,-135.25\"/>\n",
              "</g>\n",
              "<!-- 3 -->\n",
              "<g id=\"node4\" class=\"node\">\n",
              "<title>3</title>\n",
              "<polygon fill=\"#c0c0c0\" stroke=\"black\" points=\"88,-36 34,-36 34,0 88,0 88,-36\"/>\n",
              "<text text-anchor=\"middle\" x=\"61\" y=\"-14.3\" font-family=\"Helvetica,sans-Serif\" font-size=\"14.00\">(...)</text>\n",
              "</g>\n",
              "<!-- 2&#45;&gt;3 -->\n",
              "<g id=\"edge3\" class=\"edge\">\n",
              "<title>2&#45;&gt;3</title>\n",
              "<path fill=\"none\" stroke=\"black\" d=\"M70.42,-71.8C68.96,-63.62 67.34,-54.55 65.86,-46.27\"/>\n",
              "<polygon fill=\"black\" stroke=\"black\" points=\"69.29,-45.56 64.09,-36.33 62.4,-46.79 69.29,-45.56\"/>\n",
              "</g>\n",
              "<!-- 822 -->\n",
              "<g id=\"node5\" class=\"node\">\n",
              "<title>822</title>\n",
              "<polygon fill=\"#c0c0c0\" stroke=\"black\" points=\"160,-36 106,-36 106,0 160,0 160,-36\"/>\n",
              "<text text-anchor=\"middle\" x=\"133\" y=\"-14.3\" font-family=\"Helvetica,sans-Serif\" font-size=\"14.00\">(...)</text>\n",
              "</g>\n",
              "<!-- 2&#45;&gt;822 -->\n",
              "<g id=\"edge4\" class=\"edge\">\n",
              "<title>2&#45;&gt;822</title>\n",
              "<path fill=\"none\" stroke=\"black\" d=\"M93.99,-71.8C100.43,-63.08 107.63,-53.34 114.07,-44.63\"/>\n",
              "<polygon fill=\"black\" stroke=\"black\" points=\"117.07,-46.45 120.2,-36.33 111.44,-42.29 117.07,-46.45\"/>\n",
              "</g>\n",
              "<!-- 834 -->\n",
              "<g id=\"node7\" class=\"node\">\n",
              "<title>834</title>\n",
              "<polygon fill=\"#c0c0c0\" stroke=\"black\" points=\"246,-36 192,-36 192,0 246,0 246,-36\"/>\n",
              "<text text-anchor=\"middle\" x=\"219\" y=\"-14.3\" font-family=\"Helvetica,sans-Serif\" font-size=\"14.00\">(...)</text>\n",
              "</g>\n",
              "<!-- 833&#45;&gt;834 -->\n",
              "<g id=\"edge6\" class=\"edge\">\n",
              "<title>833&#45;&gt;834</title>\n",
              "<path fill=\"none\" stroke=\"black\" d=\"M229.09,-71.8C227.53,-63.62 225.79,-54.55 224.21,-46.27\"/>\n",
              "<polygon fill=\"black\" stroke=\"black\" points=\"227.63,-45.5 222.31,-36.33 220.75,-46.81 227.63,-45.5\"/>\n",
              "</g>\n",
              "<!-- 985 -->\n",
              "<g id=\"node8\" class=\"node\">\n",
              "<title>985</title>\n",
              "<polygon fill=\"#c0c0c0\" stroke=\"black\" points=\"318,-36 264,-36 264,0 318,0 318,-36\"/>\n",
              "<text text-anchor=\"middle\" x=\"291\" y=\"-14.3\" font-family=\"Helvetica,sans-Serif\" font-size=\"14.00\">(...)</text>\n",
              "</g>\n",
              "<!-- 833&#45;&gt;985 -->\n",
              "<g id=\"edge7\" class=\"edge\">\n",
              "<title>833&#45;&gt;985</title>\n",
              "<path fill=\"none\" stroke=\"black\" d=\"M252.66,-71.8C259,-63.08 266.06,-53.34 272.39,-44.63\"/>\n",
              "<polygon fill=\"black\" stroke=\"black\" points=\"275.37,-46.48 278.42,-36.33 269.71,-42.37 275.37,-46.48\"/>\n",
              "</g>\n",
              "<!-- 1443 -->\n",
              "<g id=\"node10\" class=\"node\">\n",
              "<title>1443</title>\n",
              "<polygon fill=\"#fae8da\" stroke=\"black\" points=\"465.5,-125 318.5,-125 318.5,-72 465.5,-72 465.5,-125\"/>\n",
              "<text text-anchor=\"middle\" x=\"392\" y=\"-109.8\" font-family=\"Helvetica,sans-Serif\" font-size=\"14.00\">education &lt;= 3.5</text>\n",
              "<text text-anchor=\"middle\" x=\"392\" y=\"-94.8\" font-family=\"Helvetica,sans-Serif\" font-size=\"14.00\">samples = 40.7%</text>\n",
              "<text text-anchor=\"middle\" x=\"392\" y=\"-79.8\" font-family=\"Helvetica,sans-Serif\" font-size=\"14.00\">value = [0.551, 0.449]</text>\n",
              "</g>\n",
              "<!-- 1442&#45;&gt;1443 -->\n",
              "<g id=\"edge9\" class=\"edge\">\n",
              "<title>1442&#45;&gt;1443</title>\n",
              "<path fill=\"none\" stroke=\"black\" d=\"M392,-160.87C392,-152.89 392,-143.93 392,-135.38\"/>\n",
              "<polygon fill=\"black\" stroke=\"black\" points=\"395.5,-135.25 392,-125.25 388.5,-135.25 395.5,-135.25\"/>\n",
              "</g>\n",
              "<!-- 6588 -->\n",
              "<g id=\"node13\" class=\"node\">\n",
              "<title>6588</title>\n",
              "<polygon fill=\"#e88d4d\" stroke=\"black\" points=\"616,-125 484,-125 484,-72 616,-72 616,-125\"/>\n",
              "<text text-anchor=\"middle\" x=\"550\" y=\"-109.8\" font-family=\"Helvetica,sans-Serif\" font-size=\"14.00\">relationship &lt;= 1.5</text>\n",
              "<text text-anchor=\"middle\" x=\"550\" y=\"-94.8\" font-family=\"Helvetica,sans-Serif\" font-size=\"14.00\">samples = 26.3%</text>\n",
              "<text text-anchor=\"middle\" x=\"550\" y=\"-79.8\" font-family=\"Helvetica,sans-Serif\" font-size=\"14.00\">value = [0.91, 0.09]</text>\n",
              "</g>\n",
              "<!-- 1442&#45;&gt;6588 -->\n",
              "<g id=\"edge12\" class=\"edge\">\n",
              "<title>1442&#45;&gt;6588</title>\n",
              "<path fill=\"none\" stroke=\"black\" d=\"M438.55,-160.87C456.15,-151.18 476.35,-140.05 494.68,-129.96\"/>\n",
              "<polygon fill=\"black\" stroke=\"black\" points=\"496.44,-132.99 503.51,-125.1 493.06,-126.86 496.44,-132.99\"/>\n",
              "</g>\n",
              "<!-- 1444 -->\n",
              "<g id=\"node11\" class=\"node\">\n",
              "<title>1444</title>\n",
              "<polygon fill=\"#c0c0c0\" stroke=\"black\" points=\"404,-36 350,-36 350,0 404,0 404,-36\"/>\n",
              "<text text-anchor=\"middle\" x=\"377\" y=\"-14.3\" font-family=\"Helvetica,sans-Serif\" font-size=\"14.00\">(...)</text>\n",
              "</g>\n",
              "<!-- 1443&#45;&gt;1444 -->\n",
              "<g id=\"edge10\" class=\"edge\">\n",
              "<title>1443&#45;&gt;1444</title>\n",
              "<path fill=\"none\" stroke=\"black\" d=\"M387.09,-71.8C385.53,-63.62 383.79,-54.55 382.21,-46.27\"/>\n",
              "<polygon fill=\"black\" stroke=\"black\" points=\"385.63,-45.5 380.31,-36.33 378.75,-46.81 385.63,-45.5\"/>\n",
              "</g>\n",
              "<!-- 3045 -->\n",
              "<g id=\"node12\" class=\"node\">\n",
              "<title>3045</title>\n",
              "<polygon fill=\"#c0c0c0\" stroke=\"black\" points=\"476,-36 422,-36 422,0 476,0 476,-36\"/>\n",
              "<text text-anchor=\"middle\" x=\"449\" y=\"-14.3\" font-family=\"Helvetica,sans-Serif\" font-size=\"14.00\">(...)</text>\n",
              "</g>\n",
              "<!-- 1443&#45;&gt;3045 -->\n",
              "<g id=\"edge11\" class=\"edge\">\n",
              "<title>1443&#45;&gt;3045</title>\n",
              "<path fill=\"none\" stroke=\"black\" d=\"M410.66,-71.8C417,-63.08 424.06,-53.34 430.39,-44.63\"/>\n",
              "<polygon fill=\"black\" stroke=\"black\" points=\"433.37,-46.48 436.42,-36.33 427.71,-42.37 433.37,-46.48\"/>\n",
              "</g>\n",
              "<!-- 6589 -->\n",
              "<g id=\"node14\" class=\"node\">\n",
              "<title>6589</title>\n",
              "<polygon fill=\"#c0c0c0\" stroke=\"black\" points=\"562,-36 508,-36 508,0 562,0 562,-36\"/>\n",
              "<text text-anchor=\"middle\" x=\"535\" y=\"-14.3\" font-family=\"Helvetica,sans-Serif\" font-size=\"14.00\">(...)</text>\n",
              "</g>\n",
              "<!-- 6588&#45;&gt;6589 -->\n",
              "<g id=\"edge13\" class=\"edge\">\n",
              "<title>6588&#45;&gt;6589</title>\n",
              "<path fill=\"none\" stroke=\"black\" d=\"M545.09,-71.8C543.53,-63.62 541.79,-54.55 540.21,-46.27\"/>\n",
              "<polygon fill=\"black\" stroke=\"black\" points=\"543.63,-45.5 538.31,-36.33 536.75,-46.81 543.63,-45.5\"/>\n",
              "</g>\n",
              "<!-- 7436 -->\n",
              "<g id=\"node15\" class=\"node\">\n",
              "<title>7436</title>\n",
              "<polygon fill=\"#c0c0c0\" stroke=\"black\" points=\"634,-36 580,-36 580,0 634,0 634,-36\"/>\n",
              "<text text-anchor=\"middle\" x=\"607\" y=\"-14.3\" font-family=\"Helvetica,sans-Serif\" font-size=\"14.00\">(...)</text>\n",
              "</g>\n",
              "<!-- 6588&#45;&gt;7436 -->\n",
              "<g id=\"edge14\" class=\"edge\">\n",
              "<title>6588&#45;&gt;7436</title>\n",
              "<path fill=\"none\" stroke=\"black\" d=\"M568.66,-71.8C575,-63.08 582.06,-53.34 588.39,-44.63\"/>\n",
              "<polygon fill=\"black\" stroke=\"black\" points=\"591.37,-46.48 594.42,-36.33 585.71,-42.37 591.37,-46.48\"/>\n",
              "</g>\n",
              "</g>\n",
              "</svg>\n"
            ],
            "text/plain": [
              "<graphviz.sources.Source at 0x7fc91c7b74f0>"
            ]
          },
          "metadata": {},
          "output_type": "display_data"
        }
      ],
      "source": [
        "# Export the first three decision trees from the forest\n",
        "\n",
        "for i in range(3):\n",
        "    tree = rf.estimators_[i]\n",
        "    dot_data = export_graphviz(tree,\n",
        "                               feature_names=X_train.columns,  \n",
        "                               filled=True,  \n",
        "                               max_depth=2, \n",
        "                               impurity=False, \n",
        "                               proportion=True)\n",
        "    graph = graphviz.Source(dot_data)\n",
        "    display(graph)"
      ]
    },
    {
      "cell_type": "markdown",
      "metadata": {
        "id": "2NLmeZ2u9hDC"
      },
      "source": [
        "### **Hyperparameter Tuning**"
      ]
    },
    {
      "cell_type": "code",
      "execution_count": 3,
      "metadata": {
        "colab": {
          "base_uri": "https://localhost:8080/",
          "height": 117
        },
        "id": "bpRK56Yw9VkM",
        "outputId": "83c81276-81d5-4f25-ade9-2002d984ad74"
      },
      "outputs": [
        {
          "ename": "NameError",
          "evalue": "name 'X_train' is not defined",
          "output_type": "error",
          "traceback": [
            "\u001b[1;31m---------------------------------------------------------------------------\u001b[0m",
            "\u001b[1;31mNameError\u001b[0m                                 Traceback (most recent call last)",
            "\u001b[1;32mc:\\Users\\vinay\\OneDrive\\Desktop\\Christ\\SEM2\\MACHINE LEARNING\\Ensembling.ipynb Cell 33\u001b[0m in \u001b[0;36m<cell line: 14>\u001b[1;34m()\u001b[0m\n\u001b[0;32m      <a href='vscode-notebook-cell:/c%3A/Users/vinay/OneDrive/Desktop/Christ/SEM2/MACHINE%20LEARNING/Ensembling.ipynb#X44sZmlsZQ%3D%3D?line=7'>8</a>\u001b[0m rand_search \u001b[39m=\u001b[39m RandomizedSearchCV(rf, \n\u001b[0;32m      <a href='vscode-notebook-cell:/c%3A/Users/vinay/OneDrive/Desktop/Christ/SEM2/MACHINE%20LEARNING/Ensembling.ipynb#X44sZmlsZQ%3D%3D?line=8'>9</a>\u001b[0m                                  param_distributions \u001b[39m=\u001b[39m param_dist, \n\u001b[0;32m     <a href='vscode-notebook-cell:/c%3A/Users/vinay/OneDrive/Desktop/Christ/SEM2/MACHINE%20LEARNING/Ensembling.ipynb#X44sZmlsZQ%3D%3D?line=9'>10</a>\u001b[0m                                  n_iter\u001b[39m=\u001b[39m\u001b[39m5\u001b[39m, \n\u001b[0;32m     <a href='vscode-notebook-cell:/c%3A/Users/vinay/OneDrive/Desktop/Christ/SEM2/MACHINE%20LEARNING/Ensembling.ipynb#X44sZmlsZQ%3D%3D?line=10'>11</a>\u001b[0m                                  cv\u001b[39m=\u001b[39m\u001b[39m5\u001b[39m)\n\u001b[0;32m     <a href='vscode-notebook-cell:/c%3A/Users/vinay/OneDrive/Desktop/Christ/SEM2/MACHINE%20LEARNING/Ensembling.ipynb#X44sZmlsZQ%3D%3D?line=12'>13</a>\u001b[0m \u001b[39m# Fit the random search object to the data\u001b[39;00m\n\u001b[1;32m---> <a href='vscode-notebook-cell:/c%3A/Users/vinay/OneDrive/Desktop/Christ/SEM2/MACHINE%20LEARNING/Ensembling.ipynb#X44sZmlsZQ%3D%3D?line=13'>14</a>\u001b[0m rand_search\u001b[39m.\u001b[39mfit(X_train, y_train)\n",
            "\u001b[1;31mNameError\u001b[0m: name 'X_train' is not defined"
          ]
        }
      ],
      "source": [
        "param_dist = {'n_estimators': randint(50,500),\n",
        "              'max_depth': randint(1,20)}\n",
        "\n",
        "# Create a random forest classifier\n",
        "rf = RandomForestClassifier()\n",
        "\n",
        "# Use random search to find the best hyperparameters\n",
        "rand_search = RandomizedSearchCV(rf, \n",
        "                                 param_distributions = param_dist, \n",
        "                                 n_iter=5, \n",
        "                                 cv=5)\n",
        "\n",
        "# Fit the random search object to the data\n",
        "rand_search.fit(X_train, y_train)         "
      ]
    },
    {
      "cell_type": "code",
      "execution_count": null,
      "metadata": {
        "colab": {
          "base_uri": "https://localhost:8080/"
        },
        "id": "oN3Pdl9_9wre",
        "outputId": "5d8af643-5f95-4705-ae2f-43178d08702c"
      },
      "outputs": [
        {
          "name": "stdout",
          "output_type": "stream",
          "text": [
            "Best hyperparameters: {'max_depth': 17, 'n_estimators': 67}\n"
          ]
        }
      ],
      "source": [
        "# Create a variable for the best model\n",
        "best_rf = rand_search.best_estimator_\n",
        "\n",
        "# Print the best hyperparameters\n",
        "print('Best hyperparameters:',  rand_search.best_params_)"
      ]
    },
    {
      "cell_type": "markdown",
      "metadata": {
        "id": "VhjKapTz-HMS"
      },
      "source": [
        "### **More Evaluation Metrics**"
      ]
    },
    {
      "cell_type": "code",
      "execution_count": null,
      "metadata": {
        "colab": {
          "base_uri": "https://localhost:8080/",
          "height": 279
        },
        "id": "HrVsqdAI-AAK",
        "outputId": "39071509-6690-45b0-b246-dfc752b777ef"
      },
      "outputs": [
        {
          "data": {
            "image/png": "[encoded data removed]",
            "text/plain": [
              "<Figure size 432x288 with 2 Axes>"
            ]
          },
          "metadata": {
            "needs_background": "light"
          },
          "output_type": "display_data"
        }
      ],
      "source": [
        "# Generate predictions with the best model\n",
        "y_pred = best_rf.predict(X_test)\n",
        "\n",
        "# Create the confusion matrix\n",
        "cm = confusion_matrix(y_test, y_pred)\n",
        "\n",
        "ConfusionMatrixDisplay(confusion_matrix=cm).plot();"
      ]
    },
    {
      "cell_type": "code",
      "execution_count": null,
      "metadata": {
        "colab": {
          "base_uri": "https://localhost:8080/"
        },
        "id": "J7mH7hPw-Km8",
        "outputId": "867d416b-340a-4047-b4bc-57362702ec57"
      },
      "outputs": [
        {
          "name": "stdout",
          "output_type": "stream",
          "text": [
            "Accuracy: 0.8602794411177644\n",
            "Precision: 0.7658889782783588\n",
            "Recall: 0.6059834500318269\n"
          ]
        }
      ],
      "source": [
        "y_pred = best_rf.predict(X_test)\n",
        "\n",
        "accuracy = accuracy_score(y_test, y_pred)\n",
        "precision = precision_score(y_test, y_pred)\n",
        "recall = recall_score(y_test, y_pred)\n",
        "\n",
        "print(\"Accuracy:\", accuracy)\n",
        "print(\"Precision:\", precision)\n",
        "print(\"Recall:\", recall)"
      ]
    },
    {
      "cell_type": "code",
      "execution_count": null,
      "metadata": {
        "colab": {
          "base_uri": "https://localhost:8080/",
          "height": 335
        },
        "id": "AdQvszNw-OsI",
        "outputId": "97576cb0-0b45-4958-dc10-fb0c3288a80d"
      },
      "outputs": [
        {
          "data": {
            "image/png": "[encoded data removed]",
            "text/plain": [
              "<Figure size 432x288 with 1 Axes>"
            ]
          },
          "metadata": {
            "needs_background": "light"
          },
          "output_type": "display_data"
        }
      ],
      "source": [
        "# Create a series containing feature importances from the model and feature names from the training data\n",
        "feature_importances = pd.Series(best_rf.feature_importances_, index=X_train.columns).sort_values(ascending=False)\n",
        "\n",
        "# Plot a simple bar chart\n",
        "feature_importances.plot.bar();"
      ]
    },
    {
      "cell_type": "markdown",
      "metadata": {
        "id": "oHFnyreaxoqT"
      },
      "source": [
        "# Boosting"
      ]
    },
    {
      "cell_type": "markdown",
      "metadata": {
        "id": "f911sLRzeqRl"
      },
      "source": [
        "## 1) **AdaBoost Classifier**"
      ]
    },
    {
      "cell_type": "code",
      "execution_count": null,
      "metadata": {
        "id": "U6SuFRHhdlNS"
      },
      "outputs": [],
      "source": [
        "from sklearn.ensemble import AdaBoostClassifier"
      ]
    },
    {
      "cell_type": "markdown",
      "metadata": {
        "id": "x-7P5Xi6fVu7"
      },
      "source": [
        "**Splitting The Dataset**"
      ]
    },
    {
      "cell_type": "code",
      "execution_count": null,
      "metadata": {
        "id": "4IcrXSy-fF2e"
      },
      "outputs": [],
      "source": [
        "# Split dataset into training set and test set\n",
        "X_train, X_test, y_train, y_test = train_test_split(X, y, test_size=0.3) # 70% training and 30% test\n"
      ]
    },
    {
      "cell_type": "markdown",
      "metadata": {
        "id": "psAjfDhbgwKK"
      },
      "source": [
        "AdaBoost uses Decision Tree Classifier as default Classifier.\n",
        "\n",
        "Important Parameters in AdaBoost:\n",
        "\n",
        "base_estimator: It is a weak learner used to train the model. It uses DecisionTreeClassifier as default weak learner for training purpose. You can also specify different machine learning algorithms.\n",
        "\n",
        "n_estimators: Number of weak learners to train iteratively.\n",
        "\n",
        "learning_rate: It contributes to the weights of weak learners. It uses 1 as a default value."
      ]
    },
    {
      "cell_type": "markdown",
      "metadata": {
        "id": "huQTOFQkhTwX"
      },
      "source": [
        "### **Fitting and Evaluating The Model**"
      ]
    },
    {
      "cell_type": "code",
      "execution_count": null,
      "metadata": {
        "id": "KSNseVeUfZAN"
      },
      "outputs": [],
      "source": [
        "# Create adaboost classifer object\n",
        "abc = AdaBoostClassifier(n_estimators=50,\n",
        "                         learning_rate=1)\n",
        "# Train Adaboost Classifer\n",
        "model = abc.fit(X_train, y_train)\n",
        "\n",
        "#Predict the response for test dataset\n",
        "y_pred = model.predict(X_test)\n"
      ]
    },
    {
      "cell_type": "code",
      "execution_count": null,
      "metadata": {
        "colab": {
          "base_uri": "https://localhost:8080/"
        },
        "id": "sprW-q5ggyjz",
        "outputId": "d2d8b992-57ac-4dba-d82e-9b109f3acc03"
      },
      "outputs": [
        {
          "name": "stdout",
          "output_type": "stream",
          "text": [
            "Accuracy: 0.8584297266864571\n"
          ]
        }
      ],
      "source": [
        "# Model Accuracy, how often is the classifier correct?\n",
        "print(\"Accuracy:\",metrics.accuracy_score(y_test, y_pred))\n"
      ]
    },
    {
      "cell_type": "markdown",
      "metadata": {
        "id": "JevsK_H0ttT1"
      },
      "source": [
        "## 2) **XgBoost**\n",
        "\n",
        "Works best with missing values\n",
        "\n",
        "Parallel Processing\n",
        "\n",
        "Handles Large dataset well"
      ]
    },
    {
      "cell_type": "markdown",
      "metadata": {
        "id": "_0pwaaC71dCu"
      },
      "source": [
        "### **Fitting and Evaluating The Model**"
      ]
    },
    {
      "cell_type": "markdown",
      "metadata": {
        "id": "L64t4Rg40Ksq"
      },
      "source": [
        "we fit the classifier with default parameters and evaluate its performance:"
      ]
    },
    {
      "cell_type": "code",
      "execution_count": null,
      "metadata": {
        "id": "CElztk7FtxHt"
      },
      "outputs": [],
      "source": [
        "import xgboost as xgb\n",
        "\n",
        "xgb_cl = xgb.XGBClassifier()"
      ]
    },
    {
      "cell_type": "code",
      "execution_count": null,
      "metadata": {
        "id": "_kHfEt-Yy3E4"
      },
      "outputs": [],
      "source": [
        "from sklearn.metrics import accuracy_score\n",
        "\n",
        "# Init classifier\n",
        "xgb_cl = xgb.XGBClassifier()\n",
        "\n",
        "# Fit\n",
        "xgb_cl.fit(X_train, y_train)\n",
        "\n",
        "# Predict\n",
        "preds = xgb_cl.predict(X_test)"
      ]
    },
    {
      "cell_type": "code",
      "execution_count": null,
      "metadata": {
        "colab": {
          "base_uri": "https://localhost:8080/"
        },
        "id": "nDkOJ5I00C31",
        "outputId": "7a8a4f81-596b-492e-fa58-e05b17f95f64"
      },
      "outputs": [
        {
          "data": {
            "text/plain": [
              "0.8677449073600164"
            ]
          },
          "execution_count": 45,
          "metadata": {},
          "output_type": "execute_result"
        }
      ],
      "source": [
        "accuracy_score(y_test, preds)"
      ]
    },
    {
      "cell_type": "markdown",
      "metadata": {
        "id": "Vlgd7_Kqtx7J"
      },
      "source": [
        "## 3) **Gradient Tree Boosting**"
      ]
    },
    {
      "cell_type": "markdown",
      "metadata": {
        "id": "BwGwpHuj1egv"
      },
      "source": [
        "### **Fitting and Evaluating The Model**"
      ]
    },
    {
      "cell_type": "code",
      "execution_count": null,
      "metadata": {
        "id": "FNGr9OKR0shv"
      },
      "outputs": [],
      "source": [
        "from sklearn.ensemble import GradientBoostingClassifier"
      ]
    },
    {
      "cell_type": "code",
      "execution_count": null,
      "metadata": {
        "colab": {
          "base_uri": "https://localhost:8080/",
          "height": 92
        },
        "id": "-cuUizz4t7lE",
        "outputId": "69975b0f-46a3-4da2-ad65-77ecef362850"
      },
      "outputs": [
        {
          "data": {
            "text/html": [
              "<style>#sk-container-id-3 {color: black;background-color: white;}#sk-container-id-3 pre{padding: 0;}#sk-container-id-3 div.sk-toggleable {background-color: white;}#sk-container-id-3 label.sk-toggleable__label {cursor: pointer;display: block;width: 100%;margin-bottom: 0;padding: 0.3em;box-sizing: border-box;text-align: center;}#sk-container-id-3 label.sk-toggleable__label-arrow:before {content: \"▸\";float: left;margin-right: 0.25em;color: #696969;}#sk-container-id-3 label.sk-toggleable__label-arrow:hover:before {color: black;}#sk-container-id-3 div.sk-estimator:hover label.sk-toggleable__label-arrow:before {color: black;}#sk-container-id-3 div.sk-toggleable__content {max-height: 0;max-width: 0;overflow: hidden;text-align: left;background-color: #f0f8ff;}#sk-container-id-3 div.sk-toggleable__content pre {margin: 0.2em;color: black;border-radius: 0.25em;background-color: #f0f8ff;}#sk-container-id-3 input.sk-toggleable__control:checked~div.sk-toggleable__content {max-height: 200px;max-width: 100%;overflow: auto;}#sk-container-id-3 input.sk-toggleable__control:checked~label.sk-toggleable__label-arrow:before {content: \"▾\";}#sk-container-id-3 div.sk-estimator input.sk-toggleable__control:checked~label.sk-toggleable__label {background-color: #d4ebff;}#sk-container-id-3 div.sk-label input.sk-toggleable__control:checked~label.sk-toggleable__label {background-color: #d4ebff;}#sk-container-id-3 input.sk-hidden--visually {border: 0;clip: rect(1px 1px 1px 1px);clip: rect(1px, 1px, 1px, 1px);height: 1px;margin: -1px;overflow: hidden;padding: 0;position: absolute;width: 1px;}#sk-container-id-3 div.sk-estimator {font-family: monospace;background-color: #f0f8ff;border: 1px dotted black;border-radius: 0.25em;box-sizing: border-box;margin-bottom: 0.5em;}#sk-container-id-3 div.sk-estimator:hover {background-color: #d4ebff;}#sk-container-id-3 div.sk-parallel-item::after {content: \"\";width: 100%;border-bottom: 1px solid gray;flex-grow: 1;}#sk-container-id-3 div.sk-label:hover label.sk-toggleable__label {background-color: #d4ebff;}#sk-container-id-3 div.sk-serial::before {content: \"\";position: absolute;border-left: 1px solid gray;box-sizing: border-box;top: 0;bottom: 0;left: 50%;z-index: 0;}#sk-container-id-3 div.sk-serial {display: flex;flex-direction: column;align-items: center;background-color: white;padding-right: 0.2em;padding-left: 0.2em;position: relative;}#sk-container-id-3 div.sk-item {position: relative;z-index: 1;}#sk-container-id-3 div.sk-parallel {display: flex;align-items: stretch;justify-content: center;background-color: white;position: relative;}#sk-container-id-3 div.sk-item::before, #sk-container-id-3 div.sk-parallel-item::before {content: \"\";position: absolute;border-left: 1px solid gray;box-sizing: border-box;top: 0;bottom: 0;left: 50%;z-index: -1;}#sk-container-id-3 div.sk-parallel-item {display: flex;flex-direction: column;z-index: 1;position: relative;background-color: white;}#sk-container-id-3 div.sk-parallel-item:first-child::after {align-self: flex-end;width: 50%;}#sk-container-id-3 div.sk-parallel-item:last-child::after {align-self: flex-start;width: 50%;}#sk-container-id-3 div.sk-parallel-item:only-child::after {width: 0;}#sk-container-id-3 div.sk-dashed-wrapped {border: 1px dashed gray;margin: 0 0.4em 0.5em 0.4em;box-sizing: border-box;padding-bottom: 0.4em;background-color: white;}#sk-container-id-3 div.sk-label label {font-family: monospace;font-weight: bold;display: inline-block;line-height: 1.2em;}#sk-container-id-3 div.sk-label-container {text-align: center;}#sk-container-id-3 div.sk-container {/* jupyter's `normalize.less` sets `[hidden] { display: none; }` but bootstrap.min.css set `[hidden] { display: none !important; }` so we also need the `!important` here to be able to override the default hidden behavior on the sphinx rendered scikit-learn.org. See: https://github.com/scikit-learn/scikit-learn/issues/21755 */display: inline-block !important;position: relative;}#sk-container-id-3 div.sk-text-repr-fallback {display: none;}</style><div id=\"sk-container-id-3\" class=\"sk-top-container\"><div class=\"sk-text-repr-fallback\"><pre>GradientBoostingClassifier(learning_rate=0.05, max_features=5, n_estimators=500,\n",
              "                           random_state=100)</pre><b>In a Jupyter environment, please rerun this cell to show the HTML representation or trust the notebook. <br />On GitHub, the HTML representation is unable to render, please try loading this page with nbviewer.org.</b></div><div class=\"sk-container\" hidden><div class=\"sk-item\"><div class=\"sk-estimator sk-toggleable\"><input class=\"sk-toggleable__control sk-hidden--visually\" id=\"sk-estimator-id-5\" type=\"checkbox\" checked><label for=\"sk-estimator-id-5\" class=\"sk-toggleable__label sk-toggleable__label-arrow\">GradientBoostingClassifier</label><div class=\"sk-toggleable__content\"><pre>GradientBoostingClassifier(learning_rate=0.05, max_features=5, n_estimators=500,\n",
              "                           random_state=100)</pre></div></div></div></div></div>"
            ],
            "text/plain": [
              "GradientBoostingClassifier(learning_rate=0.05, max_features=5, n_estimators=500,\n",
              "                           random_state=100)"
            ]
          },
          "execution_count": 35,
          "metadata": {},
          "output_type": "execute_result"
        }
      ],
      "source": [
        "# Define Gradient Boosting Classifier with hyperparameters\n",
        "\n",
        "gbc=GradientBoostingClassifier(n_estimators=500,learning_rate=0.05,random_state=100,max_features=5 )\n",
        "\n",
        "# Fit train data to GBC\n",
        "\n",
        "gbc.fit(X_train,y_train)"
      ]
    },
    {
      "cell_type": "code",
      "execution_count": null,
      "metadata": {
        "id": "ArQ2ebMa00gm"
      },
      "outputs": [],
      "source": [
        "# Predict\n",
        "preds = xgb_cl.predict(X_test)"
      ]
    },
    {
      "cell_type": "code",
      "execution_count": null,
      "metadata": {
        "colab": {
          "base_uri": "https://localhost:8080/"
        },
        "id": "_btfwO_I055a",
        "outputId": "0ab5ec9a-6831-41cd-e902-a10507f8671f"
      },
      "outputs": [
        {
          "data": {
            "text/plain": [
              "0.8677449073600164"
            ]
          },
          "execution_count": 37,
          "metadata": {},
          "output_type": "execute_result"
        }
      ],
      "source": [
        "accuracy_score(y_test, preds)"
      ]
    },
    {
      "cell_type": "markdown",
      "metadata": {
        "id": "O5hGq8st08w9"
      },
      "source": [
        "# Conclusion"
      ]
    },
    {
      "cell_type": "markdown",
      "metadata": {
        "id": "XNZ0-7pF1wPR"
      },
      "source": [
        "Accuracies for the models are as follows:\n",
        "* 86.03 % for Random Forest (After Hyperparameter Tuning)\n",
        "* 85.84 % for AdaBoost\n",
        "* 86.77 % for XgBoost\n",
        "* 86.77 % for Gradient Tree Boosting\n",
        "\n",
        "Hence, ***XgBoost*** and ***Gradient Tree Boosting*** are the best performing models."
      ]
    }
  ],
  "metadata": {
    "colab": {
      "provenance": [],
      "toc_visible": true
    },
    "gpuClass": "standard",
    "kernelspec": {
      "display_name": "Python 3",
      "name": "python3"
    },
    "language_info": {
      "codemirror_mode": {
        "name": "ipython",
        "version": 3
      },
      "file_extension": ".py",
      "mimetype": "text/x-python",
      "name": "python",
      "nbconvert_exporter": "python",
      "pygments_lexer": "ipython3",
      "version": "3.10.11"
    }
  },
  "nbformat": 4,
  "nbformat_minor": 0
}
